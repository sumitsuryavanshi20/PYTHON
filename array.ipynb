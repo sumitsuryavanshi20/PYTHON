{
 "cells": [
  {
   "cell_type": "code",
   "execution_count": null,
   "id": "84d3f8f8-aefa-4cc8-9a4a-edb5070b06eb",
   "metadata": {},
   "outputs": [],
   "source": [
    "#NUMPY = NUMERICAL PYTHON"
   ]
  },
  {
   "cell_type": "code",
   "execution_count": 2,
   "id": "a235dc26-a8bd-4f2c-83f4-e5f718297e3e",
   "metadata": {},
   "outputs": [],
   "source": [
    "import numpy as np "
   ]
  },
  {
   "cell_type": "code",
   "execution_count": null,
   "id": "8fa6cc92-4b52-4d02-9801-fcf72c1a0a91",
   "metadata": {},
   "outputs": [],
   "source": [
    "#Basic of array\n",
    "arr1 = np.array([1,2,3,4,5])\n",
    "arr1"
   ]
  },
  {
   "cell_type": "code",
   "execution_count": null,
   "id": "e5585e98-f251-4415-b7ab-0945f26c16f0",
   "metadata": {},
   "outputs": [],
   "source": [
    "import numpy as np \n",
    "x = np.array([22,23,44,22])   ####\n",
    "print(x)\n",
    "type(x)"
   ]
  },
  {
   "cell_type": "code",
   "execution_count": null,
   "id": "2958f421-27ee-4d84-b606-b9b98e06bcb9",
   "metadata": {},
   "outputs": [],
   "source": [
    "#to chcek data type\n",
    "type(arr1)"
   ]
  },
  {
   "cell_type": "code",
   "execution_count": null,
   "id": "a09b6727-2078-4194-9754-30d906469a5d",
   "metadata": {},
   "outputs": [],
   "source": [
    "#for make rows and column \n",
    "arr2 =np.array([[1,2,3],[4,5,6]])\n",
    "print(arr2)"
   ]
  },
  {
   "cell_type": "code",
   "execution_count": null,
   "id": "ec3dc47c-5e14-406f-93f2-1ede14722749",
   "metadata": {},
   "outputs": [],
   "source": [
    "x = np.array([[1,2,3,4],[2,54,3,3]]) ####\n",
    "print(x)"
   ]
  },
  {
   "cell_type": "code",
   "execution_count": null,
   "id": "d9a1fcd5-32ca-42a8-9e69-0b57c664c8cf",
   "metadata": {},
   "outputs": [],
   "source": [
    "#(2 shows ROWS and 3 shows COLUMNS) \n",
    "arr3 =np.zeros((2,3))\n",
    "arr3"
   ]
  },
  {
   "cell_type": "code",
   "execution_count": null,
   "id": "0a0be930-c248-424d-a863-a5d9d400cb2e",
   "metadata": {},
   "outputs": [],
   "source": [
    "#(4 shows ROWS and 5 shows COLUMNS) \n",
    "arr4 = np.ones((4,5))\n",
    "arr4"
   ]
  },
  {
   "cell_type": "code",
   "execution_count": null,
   "id": "a105e648-fa78-490c-943c-553a3ae86f40",
   "metadata": {},
   "outputs": [],
   "source": [
    "#Accessing array elements\n",
    "arr1 = np.array([1,2,3,4])\n",
    "arr1[1]"
   ]
  },
  {
   "cell_type": "code",
   "execution_count": null,
   "id": "256d3c4a-f868-45a2-b585-4343b91f71da",
   "metadata": {},
   "outputs": [],
   "source": [
    "x = np.array([1,3,3,4])\n",
    "x[0] "
   ]
  },
  {
   "cell_type": "code",
   "execution_count": null,
   "id": "efa9d45c-c33a-4fe4-ae70-47be9762b7b9",
   "metadata": {},
   "outputs": [],
   "source": [
    "arr2=np.array([[1,2,3],[4,5,6]])\n",
    "arr2"
   ]
  },
  {
   "cell_type": "code",
   "execution_count": null,
   "id": "64cdaeb0-3d17-4fe8-8d1a-34bc156da229",
   "metadata": {},
   "outputs": [],
   "source": [
    "# in this method both values know as 0 and 1 after this index no apply\n",
    "arr2[0,2]"
   ]
  },
  {
   "cell_type": "code",
   "execution_count": null,
   "id": "83684d74-a9af-4879-a8c8-da36ff65b876",
   "metadata": {},
   "outputs": [],
   "source": [
    "arr2[1,2]"
   ]
  },
  {
   "cell_type": "code",
   "execution_count": null,
   "id": "3506bdd9-19fe-4d92-a28c-2d030e8362d5",
   "metadata": {},
   "outputs": [],
   "source": [
    "arr3 = np.array([1,2,3,4,5,6,7,8])\n",
    "arr3[4:7]"
   ]
  },
  {
   "cell_type": "code",
   "execution_count": null,
   "id": "8b4b39f1-9585-4ce0-8492-bebe0e8c2047",
   "metadata": {},
   "outputs": [],
   "source": [
    "arr3 = np.array([1,2,3,4,5,6,7,8])\n",
    "arr3[3:]"
   ]
  },
  {
   "cell_type": "code",
   "execution_count": null,
   "id": "75802573-eb44-4b21-b5a2-6eacc00e6e39",
   "metadata": {},
   "outputs": [],
   "source": [
    "arr3 = np.array([1,2,3,4,5,6,7,8])\n",
    "arr3[:4]"
   ]
  },
  {
   "cell_type": "code",
   "execution_count": null,
   "id": "20a130e3-8f4c-4eca-8a2d-57c2c3835242",
   "metadata": {},
   "outputs": [],
   "source": [
    "arr3 = np.array([1,2,3,4,5,6,7,8])\n",
    "arr3[-3:-1]"
   ]
  },
  {
   "cell_type": "code",
   "execution_count": null,
   "id": "26172906-bfe9-4e3f-8b26-07993e47378e",
   "metadata": {},
   "outputs": [],
   "source": [
    "#confusion\n",
    "arr4 = np.array([1,2,3,4,5,6])\n",
    "arr4[2:5:1]"
   ]
  },
  {
   "cell_type": "code",
   "execution_count": null,
   "id": "cc73b0b2-5f93-452d-8342-e7efb22e36d3",
   "metadata": {},
   "outputs": [],
   "source": [
    "#shape it show rows and column \n",
    "arr5 = np.array([[[1,2,3,4],[5,6,7,8],[9,10,11,12]]])\n",
    "arr5.shape"
   ]
  },
  {
   "cell_type": "code",
   "execution_count": null,
   "id": "220eda54-b3cd-4a38-914b-f33078777758",
   "metadata": {},
   "outputs": [],
   "source": [
    "#Reshape dividing into rows and column\n",
    "arr6 = np.array([1, 2, 3, 4, 5, 6, 7, 8, 9, 10, 11, 12,13,14])\n",
    "arr6.reshape(2,7)"
   ]
  },
  {
   "cell_type": "code",
   "execution_count": null,
   "id": "37e30575-13ab-4904-9aae-0bc459b4c5b5",
   "metadata": {},
   "outputs": [],
   "source": [
    "#itering arrays\n",
    "arr7 = np.array([1,2,3])\n",
    "\n",
    "for x in arr7:\n",
    "    print(x)"
   ]
  },
  {
   "cell_type": "code",
   "execution_count": null,
   "id": "4f60600b-0ee3-46e6-a6e1-b53ba8a02577",
   "metadata": {},
   "outputs": [],
   "source": [
    "arr7 = np.array([[1,2,3],[4,5,6]])\n",
    "\n",
    "for x in arr7:\n",
    "    print(x)"
   ]
  },
  {
   "cell_type": "code",
   "execution_count": null,
   "id": "1f5ff85f-8935-49b7-8a8a-95e9bd7a91c6",
   "metadata": {},
   "outputs": [],
   "source": [
    "arr7 = np.array([[1,2,3],[4,5,6]])\n",
    "\n",
    "for x in arr7:\n",
    "    print(x)"
   ]
  },
  {
   "cell_type": "code",
   "execution_count": null,
   "id": "8ee8627c-8581-4235-a39f-9a2d3b52c766",
   "metadata": {},
   "outputs": [],
   "source": [
    "#Numpy Joining \n",
    "arr1 =np.array([1,2,3])\n",
    "arr2 =np.array([4,5,6])\n",
    "arr3 =np.concatenate((arr1, arr2))\n",
    "arr3"
   ]
  },
  {
   "cell_type": "code",
   "execution_count": null,
   "id": "9f4eed79-f4c0-43d6-ad4f-57556c388177",
   "metadata": {},
   "outputs": [],
   "source": [
    "arr1 =np.array([[1,2,3],[4,5,6]])\n",
    "arr2 =np.array([[7,8,9],[10,11,12]])\n",
    "arr3 =np.array((arr1, arr2))\n",
    "arr3"
   ]
  },
  {
   "cell_type": "code",
   "execution_count": null,
   "id": "630871b0-5446-4c19-8a07-1598fb1456c6",
   "metadata": {},
   "outputs": [],
   "source": [
    "arr2 =np.arange(48)\n",
    "print(arr2)"
   ]
  },
  {
   "cell_type": "code",
   "execution_count": null,
   "id": "d8a69579-1496-4531-b77a-2da6508c7e97",
   "metadata": {},
   "outputs": [],
   "source": [
    "x = np.arange(4,34)\n",
    "print(x)"
   ]
  },
  {
   "cell_type": "code",
   "execution_count": null,
   "id": "649a5de1-a6d8-4f78-8004-17b7a192f49b",
   "metadata": {},
   "outputs": [],
   "source": [
    "#spliting arrray\n",
    "arr1 =np.array([1,2,3,4,5,6,7,8,9])\n",
    "arr2 =np.array_split(arr1,2)\n",
    "arr2"
   ]
  },
  {
   "cell_type": "code",
   "execution_count": null,
   "id": "89e5f25d-f66f-4e14-ab91-25c5ea8babb6",
   "metadata": {},
   "outputs": [],
   "source": [
    "#Random no it will give output blow input value\n",
    "\n",
    "from numpy import random\n",
    "x = random.randint(12)\n",
    "print(x)"
   ]
  }
 ],
 "metadata": {
  "kernelspec": {
   "display_name": "Python [conda env:base] *",
   "language": "python",
   "name": "conda-base-py"
  },
  "language_info": {
   "codemirror_mode": {
    "name": "ipython",
    "version": 3
   },
   "file_extension": ".py",
   "mimetype": "text/x-python",
   "name": "python",
   "nbconvert_exporter": "python",
   "pygments_lexer": "ipython3",
   "version": "3.12.7"
  }
 },
 "nbformat": 4,
 "nbformat_minor": 5
}
