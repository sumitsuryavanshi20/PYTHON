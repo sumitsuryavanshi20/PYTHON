{
  "nbformat": 4,
  "nbformat_minor": 0,
  "metadata": {
    "colab": {
      "provenance": []
    },
    "kernelspec": {
      "name": "python3",
      "display_name": "Python 3"
    },
    "language_info": {
      "name": "python"
    }
  },
  "cells": [
    {
      "cell_type": "code",
      "execution_count": null,
      "metadata": {
        "colab": {
          "base_uri": "https://localhost:8080/"
        },
        "id": "y8x6clpOBlZc",
        "outputId": "b8253a3a-1423-4890-87be-89eea3ce0812"
      },
      "outputs": [
        {
          "output_type": "stream",
          "name": "stdout",
          "text": [
            "{'banana', 'apple', 'cherry'}\n"
          ]
        }
      ],
      "source": [
        "myset={\"apple\",\"banana\",\"cherry\"}\n",
        "print(myset)"
      ]
    },
    {
      "cell_type": "code",
      "source": [
        " #Duplicates Not Allowed\n",
        " #Sets cannot have two items with the same value.\n",
        "\n",
        "#Example\n",
        "#Duplicate values will be ignored:\n",
        "thisset = {\"sumit\",\"rahul\",\"govind\",\"sumit\",\"govind\"}\n",
        "print(thisset)"
      ],
      "metadata": {
        "colab": {
          "base_uri": "https://localhost:8080/"
        },
        "id": "pSOo9_W5NeZV",
        "outputId": "0d948447-fc04-47bb-d5a9-0ff437b02263"
      },
      "execution_count": null,
      "outputs": [
        {
          "output_type": "stream",
          "name": "stdout",
          "text": [
            "{'govind', 'sumit', 'rahul'}\n"
          ]
        }
      ]
    },
    {
      "cell_type": "code",
      "source": [
        "#Note: The values True and 1 are considered the same value in sets, and are treated as duplicates:"
      ],
      "metadata": {
        "id": "cZy4C7M0RDKN"
      },
      "execution_count": null,
      "outputs": []
    },
    {
      "cell_type": "code",
      "source": [
        "#Example\n",
        "#True and 1 is considered the same value:\n",
        "\n",
        "thisset = {\"apple\", \"banana\", \"cherry\", True, 1, 2}\n",
        "\n",
        "print(thisset)"
      ],
      "metadata": {
        "colab": {
          "base_uri": "https://localhost:8080/"
        },
        "id": "ibvNEX9rRGtZ",
        "outputId": "fec1a52b-54e9-43a8-b95e-3a0f7a6d2828"
      },
      "execution_count": null,
      "outputs": [
        {
          "output_type": "stream",
          "name": "stdout",
          "text": [
            "{'banana', 2, True, 'cherry', 'apple'}\n"
          ]
        }
      ]
    },
    {
      "cell_type": "code",
      "source": [
        "#Note: The values False and 0 are considered the same value in sets, and are treated as duplicates:"
      ],
      "metadata": {
        "id": "gwLcla3GRGnS"
      },
      "execution_count": null,
      "outputs": []
    },
    {
      "cell_type": "code",
      "source": [
        "#Example\n",
        "#False and 0 is considered the same value:\n",
        "\n",
        "thisset = {\"apple\", \"banana\", \"cherry\", False, True, 0}\n",
        "\n",
        "print(thisset)"
      ],
      "metadata": {
        "colab": {
          "base_uri": "https://localhost:8080/"
        },
        "id": "omxnLsd8RMzh",
        "outputId": "ccf797f7-94de-4c1b-a5ec-e485b66d77f3"
      },
      "execution_count": null,
      "outputs": [
        {
          "output_type": "stream",
          "name": "stdout",
          "text": [
            "{False, 'banana', True, 'cherry', 'apple'}\n"
          ]
        }
      ]
    },
    {
      "cell_type": "code",
      "source": [
        "#Get the Length of a Set.\n",
        "#To determine how many items a set has, use the len() function.\n",
        "#Example\n",
        "#Get the number of items in a set:\n",
        "thisset={\"Apple\",\"cherry\",\"banana\",\"kiwi\"}\n",
        "print(len(thisset))"
      ],
      "metadata": {
        "colab": {
          "base_uri": "https://localhost:8080/"
        },
        "id": "eDyXroDrRpZU",
        "outputId": "849d6644-57de-4b34-cfc5-a79d1272a673"
      },
      "execution_count": null,
      "outputs": [
        {
          "output_type": "stream",
          "name": "stdout",
          "text": [
            "4\n"
          ]
        }
      ]
    },
    {
      "cell_type": "code",
      "source": [
        "#Set Items - Data Types\n",
        "#Set items can be of any data type:\n",
        "\n",
        "#Example\n",
        "#String, int and boolean data types:\n",
        "\n",
        "set1={\"apple\"}\n",
        "set2={1,2,3,4}\n",
        "set3={True,False}\n"
      ],
      "metadata": {
        "id": "hiR27mMzSIKn"
      },
      "execution_count": null,
      "outputs": []
    },
    {
      "cell_type": "code",
      "source": [
        "#A set can contain different data types:\n",
        "#Example\n",
        "#A set with strings, integers and boolean values:\n",
        "\n",
        "set1 = {\"abc\", 34, True, 40, \"male\"}"
      ],
      "metadata": {
        "id": "Meyf1z3sSkHH"
      },
      "execution_count": null,
      "outputs": []
    },
    {
      "cell_type": "code",
      "source": [
        "#type()\n",
        "#From Python's perspective, sets are defined as objects with the data type 'set':\n",
        "\n",
        "#Example\n",
        "#What is the data type of a set?\n",
        "\n",
        "myset = {\"apple\", \"banana\", \"cherry\"}\n",
        "print(type(myset))"
      ],
      "metadata": {
        "colab": {
          "base_uri": "https://localhost:8080/"
        },
        "id": "v2A1osKNSrD0",
        "outputId": "3a334e93-29a2-40c6-ceca-fd443f17fbd9"
      },
      "execution_count": null,
      "outputs": [
        {
          "output_type": "stream",
          "name": "stdout",
          "text": [
            "<class 'set'>\n"
          ]
        }
      ]
    },
    {
      "cell_type": "code",
      "source": [
        "#The set() Constructor\n",
        "#It is also possible to use the set() constructor to make a set.\n",
        "\n",
        "#Example\n",
        "#Using the set() constructor to make a set:\n",
        "\n",
        "thisset = set((\"apple\", \"banana\", \"cherry\")) # note the double round-brackets\n",
        "print(thisset)"
      ],
      "metadata": {
        "colab": {
          "base_uri": "https://localhost:8080/"
        },
        "id": "1vEjbVXMSzFx",
        "outputId": "4f171a60-ec7f-401d-a53b-295b9233c223"
      },
      "execution_count": null,
      "outputs": [
        {
          "output_type": "stream",
          "name": "stdout",
          "text": [
            "{'banana', 'apple', 'cherry'}\n"
          ]
        }
      ]
    },
    {
      "cell_type": "code",
      "source": [
        "#Access Items\n",
        "#Loop through the set, and print the values:\n",
        "#True or False. You can access set items by referring to the index.\n",
        "\n",
        "\n",
        "\n",
        "thisset = {\"apple\", \"banana\", \"cherry\"}\n",
        "for x in thisset:\n",
        "  print(x)\n"
      ],
      "metadata": {
        "colab": {
          "base_uri": "https://localhost:8080/"
        },
        "id": "V3naW9MYUjDO",
        "outputId": "e531757c-e76b-4a3b-9194-11c91bce0317"
      },
      "execution_count": null,
      "outputs": [
        {
          "output_type": "stream",
          "name": "stdout",
          "text": [
            "banana\n",
            "apple\n",
            "cherry\n"
          ]
        }
      ]
    },
    {
      "cell_type": "code",
      "source": [
        "#Check if \"banana\" is present in the set:\n",
        "thisset = {\"apple\",\"banana\",\"cherry\"}\n",
        "print(\"banana\" in thisset)"
      ],
      "metadata": {
        "colab": {
          "base_uri": "https://localhost:8080/"
        },
        "id": "XvTGYla5Uu3K",
        "outputId": "527f2ba5-83cd-4c97-a5e6-78eb4b92cc42"
      },
      "execution_count": null,
      "outputs": [
        {
          "output_type": "stream",
          "name": "stdout",
          "text": [
            "True\n"
          ]
        }
      ]
    },
    {
      "cell_type": "code",
      "source": [
        "#Check if \"banana\" is NOT present in the set:\n",
        "thisset = {\"apple\",\"banana\",\"cherry\"}\n",
        "print(\"banana\" not in thisset)"
      ],
      "metadata": {
        "colab": {
          "base_uri": "https://localhost:8080/"
        },
        "id": "g1pHnX5OVFT5",
        "outputId": "a0854661-d5fb-47ef-c5e1-ec36a5e35999"
      },
      "execution_count": null,
      "outputs": [
        {
          "output_type": "stream",
          "name": "stdout",
          "text": [
            "False\n"
          ]
        }
      ]
    },
    {
      "cell_type": "code",
      "source": [
        "#Python - Add Set Items\n",
        "#Add Items\n",
        "#Once a set is created, you cannot change its items, but you can add new items.\n",
        "#To add one item to a set use the add() method.\n",
        "\n",
        "#Example\n",
        "#Add an item to a set, using the add() method:\n",
        "thisset ={\"apple\",\"banana\",\"cherry\"}\n",
        "thisset.add(\"orange\")\n",
        "print(thisset)"
      ],
      "metadata": {
        "colab": {
          "base_uri": "https://localhost:8080/"
        },
        "id": "5USuXS-oVhir",
        "outputId": "ac93084f-13c2-464f-8142-21e16e0d5e22"
      },
      "execution_count": null,
      "outputs": [
        {
          "output_type": "stream",
          "name": "stdout",
          "text": [
            "{'apple', 'cherry', 'banana', 'orange'}\n"
          ]
        }
      ]
    },
    {
      "cell_type": "code",
      "source": [
        "#Add Sets\n",
        "#To add items from another set into the current set, use the update() method.\n",
        "\n",
        "#Example\n",
        "#Add elements from tropical into thisset:\n",
        "thisset  = {\"apple\",\"banana\",\"cherry\"}\n",
        "tropical = {\"Pineapple\",\"Mango\",\"papaya\"}\n",
        "\n",
        "thisset.update(tropical)\n",
        "print(thisset)"
      ],
      "metadata": {
        "colab": {
          "base_uri": "https://localhost:8080/"
        },
        "id": "mKOruGdJ0Nfr",
        "outputId": "deed3ea3-404e-4975-9691-4af68e9bd6e9"
      },
      "execution_count": null,
      "outputs": [
        {
          "output_type": "stream",
          "name": "stdout",
          "text": [
            "{'banana', 'Mango', 'apple', 'cherry', 'Pineapple', 'papaya'}\n"
          ]
        }
      ]
    },
    {
      "cell_type": "code",
      "source": [
        "#Add any iterable\n",
        "#Example\n",
        "#Add elements of a list to at set:\n",
        "thisset= {\"apple\",\"banana\",\"cherry\"}\n",
        "mylist = [\"kiwi\",\"orange\"]\n",
        "thisset.update(mylist)\n",
        "print(thisset)"
      ],
      "metadata": {
        "colab": {
          "base_uri": "https://localhost:8080/"
        },
        "id": "Te_Tbzrh0stE",
        "outputId": "9ef3bf91-42bf-47af-dd21-b3f7b7992b34"
      },
      "execution_count": null,
      "outputs": [
        {
          "output_type": "stream",
          "name": "stdout",
          "text": [
            "{'kiwi', 'cherry', 'orange', 'banana', 'apple'}\n"
          ]
        }
      ]
    },
    {
      "cell_type": "code",
      "source": [
        "#Remove Item\n",
        "#To remove an item in a set, use the remove(), or the discard() method.\n",
        "\n",
        "#ExampleGet your own Python Server\n",
        "#Remove \"banana\" by using the remove() method:\n",
        "thisset = {\"apple\",\"banana\",\"cherry\"}\n",
        "thisset.remove(\"banana\")\n",
        "print(thisset)\n",
        "#Note: If the item to remove does not exist, remove() will raise an error.\n",
        "\n"
      ],
      "metadata": {
        "colab": {
          "base_uri": "https://localhost:8080/"
        },
        "id": "94us4R5Y1zOc",
        "outputId": "33451aa4-6d40-4409-d9c1-76a5be0fcd8b"
      },
      "execution_count": null,
      "outputs": [
        {
          "output_type": "stream",
          "name": "stdout",
          "text": [
            "{'apple', 'cherry'}\n"
          ]
        }
      ]
    },
    {
      "cell_type": "code",
      "source": [
        "#Example\n",
        "#Remove \"banana\" by using the discard() method:\n",
        "\n",
        "thisset = {\"apple\",\"cherry\"}\n",
        "\n",
        "thisset.discard(\"banana\")\n",
        "\n",
        "print(thisset)\n",
        "#Note: If the item to remove does not exist, discard() will NOT raise an error.\n",
        "\n"
      ],
      "metadata": {
        "colab": {
          "base_uri": "https://localhost:8080/"
        },
        "id": "9RKb1Rfk2JMD",
        "outputId": "d7459c19-22f3-40e0-f2ed-0acf0f2aba38"
      },
      "execution_count": null,
      "outputs": [
        {
          "output_type": "stream",
          "name": "stdout",
          "text": [
            "{'apple', 'cherry'}\n"
          ]
        }
      ]
    },
    {
      "cell_type": "code",
      "source": [
        "#Note: If the item to remove does not exist, remove() will raise an error.\n",
        "\n",
        "#Example\n",
        "#Remove a random item by using the pop() method:\n",
        "\n",
        "thisset = {\"apple\", \"banana\", \"cherry\"}\n",
        "\n",
        "x = thisset.pop()\n",
        "\n",
        "print(x)\n",
        "\n",
        "print(thisset)"
      ],
      "metadata": {
        "colab": {
          "base_uri": "https://localhost:8080/"
        },
        "id": "x7nojM3B2duv",
        "outputId": "7cc18f29-3fcf-4764-9a53-111c91db3111"
      },
      "execution_count": null,
      "outputs": [
        {
          "output_type": "stream",
          "name": "stdout",
          "text": [
            "apple\n",
            "{'cherry', 'banana'}\n"
          ]
        }
      ]
    },
    {
      "cell_type": "code",
      "source": [
        "#Example\n",
        "#The clear() method empties the set:\n",
        "\n",
        "thisset = {\"apple\", \"banana\", \"cherry\"}\n",
        "\n",
        "thisset.clear()\n",
        "\n",
        "print(thisset)"
      ],
      "metadata": {
        "colab": {
          "base_uri": "https://localhost:8080/"
        },
        "id": "TLY05xjd2od6",
        "outputId": "dde3d317-31d0-4782-81ec-d013efbb67a5"
      },
      "execution_count": null,
      "outputs": [
        {
          "output_type": "stream",
          "name": "stdout",
          "text": [
            "set()\n"
          ]
        }
      ]
    },
    {
      "cell_type": "code",
      "source": [
        "#Loop items\n",
        "#Union\n",
        "#Join set1 and set2 into a new set:\n",
        "set1={\"apple\",\"kiwi\",\"banana\"}\n",
        "set2={1,2,34,4}\n",
        "set3 = set1.union(set2)\n",
        "print(set3)"
      ],
      "metadata": {
        "colab": {
          "base_uri": "https://localhost:8080/"
        },
        "id": "bwPSks1G26Mu",
        "outputId": "1f367c59-c73f-45b9-de05-3a5b225c5b09"
      },
      "execution_count": null,
      "outputs": [
        {
          "output_type": "stream",
          "name": "stdout",
          "text": [
            "{1, 2, 34, 4, 'banana', 'kiwi', 'apple'}\n"
          ]
        }
      ]
    },
    {
      "cell_type": "code",
      "source": [
        "#you can use the | operator instead of the union() method, and you will get the same result.\n",
        "\n",
        "#Example\n",
        "#Use | to join two sets:\n",
        "\n",
        "set1 = {\"a\", \"b\", \"c\"}\n",
        "set2 = {1, 2, 3}\n",
        "\n",
        "set3 = set1 | set2\n",
        "print(set3)"
      ],
      "metadata": {
        "colab": {
          "base_uri": "https://localhost:8080/"
        },
        "id": "XHE5Fhdi4eJv",
        "outputId": "daad9ed5-8036-4199-913f-0a41d91793b2"
      },
      "execution_count": null,
      "outputs": [
        {
          "output_type": "stream",
          "name": "stdout",
          "text": [
            "{1, 2, 3, 'a', 'c', 'b'}\n"
          ]
        }
      ]
    },
    {
      "cell_type": "code",
      "source": [
        "#Join Multiple Sets\n",
        "#All the joining methods and operators can be used to join multiple sets.\n",
        "\n",
        "#When using a method, just add more sets in the parentheses, separated by commas:\n",
        "\n",
        "#Example\n",
        "#Join multiple sets with the union() method:\n",
        "\n",
        "set1 = {\"a\", \"b\", \"c\"}\n",
        "set2 = {1, 2, 3}\n",
        "set3 = {\"John\", \"Elena\"}\n",
        "set4 = {\"apple\", \"bananas\", \"cherry\"}\n",
        "\n",
        "myset = set1.union(set2, set3, set4)\n",
        "print(myset)"
      ],
      "metadata": {
        "id": "5kRzKk-v4h9M"
      },
      "execution_count": null,
      "outputs": []
    },
    {
      "cell_type": "code",
      "source": [
        "#When using the | operator, separate the sets with more | operators:\n",
        "\n",
        "#Example\n",
        "#Use | to join two sets:\n",
        "\n",
        "set1 = {\"a\", \"b\", \"c\"}\n",
        "set2 = {1, 2, 3}\n",
        "set3 = {\"John\", \"Elena\"}\n",
        "set4 = {\"apple\", \"bananas\", \"cherry\"}\n",
        "\n",
        "myset = set1 | set2 | set3 |set4\n",
        "print(myset)"
      ],
      "metadata": {
        "colab": {
          "base_uri": "https://localhost:8080/"
        },
        "id": "BQpqzdIU40FC",
        "outputId": "e55de7bc-5d20-4e5d-de34-0955b986d865"
      },
      "execution_count": null,
      "outputs": [
        {
          "output_type": "stream",
          "name": "stdout",
          "text": [
            "{1, 2, 3, 'c', 'cherry', 'bananas', 'Elena', 'a', 'b', 'apple', 'John'}\n"
          ]
        }
      ]
    },
    {
      "cell_type": "code",
      "source": [
        "#Join a Set and a Tuple\n",
        "#The union() method allows you to join a set with other data types, like lists or tuples.\n",
        "\n",
        "#The result will be a set.\n",
        "#Example\n",
        "#Join a set with a tuple:\n",
        "\n",
        "x = {\"a\", \"b\", \"c\"}\n",
        "y = (1, 2, 3)\n",
        "\n",
        "z = x.union(y)\n",
        "print(z)"
      ],
      "metadata": {
        "id": "WpSFelVM44gs"
      },
      "execution_count": null,
      "outputs": []
    },
    {
      "cell_type": "code",
      "source": [
        "#Update\n",
        "#The update() method inserts all items from one set into another.\n",
        "\n",
        "#The update() changes the original set, and does not return a new set.\n",
        "\n",
        "#Example\n",
        "#The update() method inserts the items in set2 into set1:\n",
        "\n",
        "set1 = {\"a\", \"b\" , \"c\"}\n",
        "set2 = {1, 2, 3}\n",
        "\n",
        "set1.update(set2)\n",
        "print(set1)\n",
        "\n",
        "#Note: Both union() and update() will exclude any duplicate items.\n",
        "\n"
      ],
      "metadata": {
        "colab": {
          "base_uri": "https://localhost:8080/"
        },
        "id": "6DTjyKgF5G56",
        "outputId": "dc270051-f63e-4c41-c086-082ebd073de2"
      },
      "execution_count": null,
      "outputs": [
        {
          "output_type": "stream",
          "name": "stdout",
          "text": [
            "{1, 2, 3, 'a', 'c', 'b'}\n"
          ]
        }
      ]
    },
    {
      "cell_type": "code",
      "source": [
        "#Intersection\n",
        "#Keep ONLY the duplicates\n",
        "\n",
        "#The intersection() method will return a new set, that only contains the items that are present in both sets.\n",
        "\n",
        "#Example\n",
        "#Join set1 and set2, but keep only the duplicates:\n",
        "\n",
        "set1 = {\"apple\", \"banana\", \"cherry\"}\n",
        "set2 = {\"google\", \"microsoft\", \"apple\"}\n",
        "\n",
        "set3 = set1.intersection(set2)\n",
        "print(set3)"
      ],
      "metadata": {
        "colab": {
          "base_uri": "https://localhost:8080/"
        },
        "id": "YhdO3Brg5mwJ",
        "outputId": "867f34f0-4f02-4465-9b34-6ab7214a3610"
      },
      "execution_count": null,
      "outputs": [
        {
          "output_type": "stream",
          "name": "stdout",
          "text": [
            "{'apple'}\n"
          ]
        }
      ]
    },
    {
      "cell_type": "code",
      "source": [
        "#You can use the & operator instead of the intersection() method, and you will get the same result."
      ],
      "metadata": {
        "id": "_TbMfqTl53tR"
      },
      "execution_count": null,
      "outputs": []
    },
    {
      "cell_type": "code",
      "source": [
        "#Example\n",
        "#Use & to join two sets:\n",
        "\n",
        "set1 = {\"apple\", \"banana\", \"cherry\"}\n",
        "set2 = {\"google\", \"microsoft\", \"apple\"}\n",
        "\n",
        "set3 = set1 & set2\n",
        "print(set3)"
      ],
      "metadata": {
        "colab": {
          "base_uri": "https://localhost:8080/"
        },
        "id": "c2l1n_RG5xCf",
        "outputId": "c72978e1-e372-4c7b-fc94-031dc771af53"
      },
      "execution_count": null,
      "outputs": [
        {
          "output_type": "stream",
          "name": "stdout",
          "text": [
            "{'apple'}\n"
          ]
        }
      ]
    },
    {
      "cell_type": "code",
      "source": [
        "#Example\n",
        "#Keep the items that exist in both set1, and set2:\n",
        "\n",
        "set1 = {\"apple\", \"banana\", \"cherry\"}\n",
        "set2 = {\"google\", \"microsoft\", \"apple\"}\n",
        "\n",
        "set1.intersection_update(set2)\n",
        "\n",
        "print(set1)"
      ],
      "metadata": {
        "colab": {
          "base_uri": "https://localhost:8080/"
        },
        "id": "5YIcyPGO6AUw",
        "outputId": "eb581dd2-df36-450e-dcd9-24a0519ae081"
      },
      "execution_count": null,
      "outputs": [
        {
          "output_type": "stream",
          "name": "stdout",
          "text": [
            "{'apple'}\n"
          ]
        }
      ]
    },
    {
      "cell_type": "code",
      "source": [
        "#The values True and 1 are considered the same value. The same goes for False and 0."
      ],
      "metadata": {
        "id": "jzav3yKM6Jvu"
      },
      "execution_count": null,
      "outputs": []
    },
    {
      "cell_type": "code",
      "source": [
        "#Example\n",
        "#Join sets that contains the values True, False, 1, and 0, and see what is considered as duplicates:\n",
        "\n",
        "set1 = {\"apple\", 1,  \"banana\", 0, \"cherry\"}\n",
        "set2 = {False, \"google\", 1, \"apple\", 2, True}\n",
        "\n",
        "set3 = set1.intersection(set2)\n",
        "\n",
        "print(set3)"
      ],
      "metadata": {
        "colab": {
          "base_uri": "https://localhost:8080/"
        },
        "id": "tIToxFgB6Llg",
        "outputId": "265445ef-e193-44ac-f037-b764563b480d"
      },
      "execution_count": null,
      "outputs": [
        {
          "output_type": "stream",
          "name": "stdout",
          "text": [
            "{False, 1, 'apple'}\n"
          ]
        }
      ]
    },
    {
      "cell_type": "code",
      "source": [
        "#Difference\n",
        "#The difference() method will return a new set that will contain only the items from the first set that are not present in the other set.\n",
        "\n",
        "#Example\n",
        "#Keep all items from set1 that are not in set2:\n",
        "\n",
        "set1 = {\"apple\", \"banana\", \"cherry\"}\n",
        "set2 = {\"google\", \"microsoft\", \"apple\"}\n",
        "\n",
        "set3 = set1.difference(set2)\n",
        "\n",
        "print(set3)"
      ],
      "metadata": {
        "colab": {
          "base_uri": "https://localhost:8080/"
        },
        "id": "CYYSHw3V6UIH",
        "outputId": "3c5af4ef-c614-44fb-e1f5-22937f470c95"
      },
      "execution_count": null,
      "outputs": [
        {
          "output_type": "stream",
          "name": "stdout",
          "text": [
            "{'cherry', 'banana'}\n"
          ]
        }
      ]
    },
    {
      "cell_type": "code",
      "source": [
        "#You can use the - operator instead of the difference() method, and you will get the same result."
      ],
      "metadata": {
        "id": "CDgh4LFj6djP"
      },
      "execution_count": null,
      "outputs": []
    },
    {
      "cell_type": "code",
      "source": [
        "#Example\n",
        "#Use - to join two sets:\n",
        "\n",
        "set1 = {\"apple\", \"banana\", \"cherry\"}\n",
        "set2 = {\"google\", \"microsoft\", \"apple\"}\n",
        "\n",
        "set3 = set1 - set2\n",
        "print(set3)"
      ],
      "metadata": {
        "colab": {
          "base_uri": "https://localhost:8080/"
        },
        "id": "2UwJHrzr6e3j",
        "outputId": "9d06b31a-301b-4e02-a5f8-3082cb9f7ce6"
      },
      "execution_count": null,
      "outputs": [
        {
          "output_type": "stream",
          "name": "stdout",
          "text": [
            "{'cherry', 'banana'}\n"
          ]
        }
      ]
    },
    {
      "cell_type": "code",
      "source": [
        "#Note: The - operator only allows you to join sets with sets, and not with other data types like you can with the difference() method."
      ],
      "metadata": {
        "id": "nqfQ3cQS6omq"
      },
      "execution_count": null,
      "outputs": []
    },
    {
      "cell_type": "code",
      "source": [
        "#The difference_update() method will also keep the items from the first set that are not in the other set, but it will change the original set instead of returning a new set.\n",
        "\n",
        "#Example\n",
        "#Use the difference_update() method to keep the items that are not present in both sets:\n",
        "\n",
        "set1 = {\"apple\", \"banana\", \"cherry\"}\n",
        "set2 = {\"google\", \"microsoft\", \"apple\"}\n",
        "\n",
        "set1.difference_update(set2)\n",
        "\n",
        "print(set1)"
      ],
      "metadata": {
        "colab": {
          "base_uri": "https://localhost:8080/"
        },
        "id": "EprsfjCd6nuE",
        "outputId": "4d28c1a0-b8e7-4bdb-d3a8-5929bce2f1f1"
      },
      "execution_count": null,
      "outputs": [
        {
          "output_type": "stream",
          "name": "stdout",
          "text": [
            "{'cherry', 'banana'}\n"
          ]
        }
      ]
    },
    {
      "cell_type": "code",
      "source": [
        "#Symmetric Differences\n",
        "#The symmetric_difference() method will keep only the elements that are NOT present in both sets.\n",
        "\n",
        "#Example\n",
        "#Keep the items that are not present in both sets:\n",
        "\n",
        "set1 = {\"apple\", \"banana\", \"cherry\"}\n",
        "set2 = {\"google\", \"microsoft\", \"apple\"}\n",
        "\n",
        "set3 = set1.symmetric_difference(set2)\n",
        "\n",
        "print(set3)"
      ],
      "metadata": {
        "colab": {
          "base_uri": "https://localhost:8080/"
        },
        "id": "c3tQOqyI6wil",
        "outputId": "a457c1ff-19cd-4bee-a6b5-ff419c19742b"
      },
      "execution_count": null,
      "outputs": [
        {
          "output_type": "stream",
          "name": "stdout",
          "text": [
            "{'google', 'microsoft', 'cherry', 'banana'}\n"
          ]
        }
      ]
    },
    {
      "cell_type": "code",
      "source": [
        "#You can use the ^ operator instead of the symmetric_difference() method, and you will get the same result."
      ],
      "metadata": {
        "id": "IHL6Fx3K63MR"
      },
      "execution_count": null,
      "outputs": []
    },
    {
      "cell_type": "code",
      "source": [
        "#Example\n",
        "#Use ^ to join two sets:\n",
        "\n",
        "set1 = {\"apple\", \"banana\", \"cherry\"}\n",
        "set2 = {\"google\", \"microsoft\", \"apple\"}\n",
        "\n",
        "set3 = set1 ^ set2\n",
        "print(set3)\n"
      ],
      "metadata": {
        "id": "pBTIAlRW67YJ",
        "colab": {
          "base_uri": "https://localhost:8080/"
        },
        "outputId": "79796172-713d-4590-9eaf-5c7bb19dab07"
      },
      "execution_count": 2,
      "outputs": [
        {
          "output_type": "stream",
          "name": "stdout",
          "text": [
            "{'banana', 'microsoft', 'cherry', 'google'}\n"
          ]
        }
      ]
    },
    {
      "cell_type": "code",
      "source": [
        "#The symmetric_difference_update() method will also keep all but the duplicates, but it will change the original set instead of returning a new set.\n",
        "\n",
        "#Example\n",
        "#Use the symmetric_difference_update() method to keep the items that are not present in both sets:\n",
        "\n",
        "set1 = {\"apple\", \"banana\", \"cherry\"}\n",
        "set2 = {\"google\", \"microsoft\", \"apple\"}\n",
        "\n",
        "set1.symmetric_difference_update(set2)\n",
        "\n",
        "print(set1)"
      ],
      "metadata": {
        "id": "8nBxnOba6_QV",
        "colab": {
          "base_uri": "https://localhost:8080/"
        },
        "outputId": "aa9f2a1b-9f73-4fae-b6e8-6572bc6a8c21"
      },
      "execution_count": 3,
      "outputs": [
        {
          "output_type": "stream",
          "name": "stdout",
          "text": [
            "{'banana', 'microsoft', 'cherry', 'google'}\n"
          ]
        }
      ]
    }
  ]
}