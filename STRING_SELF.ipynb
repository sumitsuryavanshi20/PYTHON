{
  "nbformat": 4,
  "nbformat_minor": 0,
  "metadata": {
    "colab": {
      "provenance": []
    },
    "kernelspec": {
      "name": "python3",
      "display_name": "Python 3"
    },
    "language_info": {
      "name": "python"
    }
  },
  "cells": [
    {
      "cell_type": "code",
      "execution_count": null,
      "metadata": {
        "id": "0-Z7gsso2iOb"
      },
      "outputs": [],
      "source": [
        "#STRING"
      ]
    },
    {
      "cell_type": "code",
      "source": [
        "print(\"Hello\")\n",
        "print('World')"
      ],
      "metadata": {
        "colab": {
          "base_uri": "https://localhost:8080/"
        },
        "id": "aL40XpUk2602",
        "outputId": "f0db482b-cdb7-4aaa-fb12-92e6880cf6fb"
      },
      "execution_count": null,
      "outputs": [
        {
          "output_type": "stream",
          "name": "stdout",
          "text": [
            "Hello\n",
            "World\n"
          ]
        }
      ]
    },
    {
      "cell_type": "code",
      "source": [
        "#Inside Quotes:\n",
        "#you can use quotes inside the string.\n",
        "\n",
        "print(\"He'l'lo\")\n",
        "print(\"Hello\")\n",
        "print('Hello')"
      ],
      "metadata": {
        "colab": {
          "base_uri": "https://localhost:8080/"
        },
        "id": "94upr2b03JxS",
        "outputId": "dcd514b5-3e54-4f84-a725-ee5f54a51466"
      },
      "execution_count": null,
      "outputs": [
        {
          "output_type": "stream",
          "name": "stdout",
          "text": [
            "He'l'lo\n",
            "Hello\n",
            "Hello\n"
          ]
        }
      ]
    },
    {
      "cell_type": "code",
      "source": [
        "#Multiline Strings\n",
        "#You can assign a multiline string to a variable by using three quotes:\n",
        "#You can use three double quotes:\n",
        "\n",
        "x = \"\"\"My name is Sumit,\n",
        "I am 20 year old,\n",
        "I am pursuing second year of BCA\"\"\"\n",
        "print(x)"
      ],
      "metadata": {
        "colab": {
          "base_uri": "https://localhost:8080/"
        },
        "id": "ymsc7t1R3j1x",
        "outputId": "ea91f9fe-38d3-4185-94d5-0deff3b881b6"
      },
      "execution_count": null,
      "outputs": [
        {
          "output_type": "stream",
          "name": "stdout",
          "text": [
            "My name is Sumit,\n",
            "I am 20 year old, \n",
            "I am pursuing second year of BCA\n"
          ]
        }
      ]
    },
    {
      "cell_type": "code",
      "source": [
        "# You can get the value by index Number Index number start from [0] and if talk about end to start So [-1]\n",
        "a = \"Hello, World!\"\n",
        "print(a[1])\n",
        "\n",
        "a = \"Sumit\"\n",
        "print(a[0])"
      ],
      "metadata": {
        "colab": {
          "base_uri": "https://localhost:8080/"
        },
        "id": "Bqd1uvDn3-ng",
        "outputId": "d753cdee-07d4-48b8-bbdf-690aafd07c07"
      },
      "execution_count": null,
      "outputs": [
        {
          "output_type": "stream",
          "name": "stdout",
          "text": [
            "e\n",
            "S\n"
          ]
        }
      ]
    },
    {
      "cell_type": "code",
      "source": [
        "for x in \"SUMIT SURYAVANSHI\":\n",
        "  print(x)"
      ],
      "metadata": {
        "colab": {
          "base_uri": "https://localhost:8080/"
        },
        "id": "jeB-GNNd4l6_",
        "outputId": "26d33b3c-b776-4f38-ddac-7895bb03facc"
      },
      "execution_count": null,
      "outputs": [
        {
          "output_type": "stream",
          "name": "stdout",
          "text": [
            "S\n",
            "U\n",
            "M\n",
            "I\n",
            "T\n",
            " \n",
            "S\n",
            "U\n",
            "R\n",
            "Y\n",
            "A\n",
            "V\n",
            "A\n",
            "N\n",
            "S\n",
            "H\n",
            "I\n"
          ]
        }
      ]
    },
    {
      "cell_type": "code",
      "source": [
        "# If need to find len of value:\n",
        "a = \"Hello World\"\n",
        "print(len(a))"
      ],
      "metadata": {
        "colab": {
          "base_uri": "https://localhost:8080/"
        },
        "id": "o1EeKH4R5LuC",
        "outputId": "af61d244-d14e-4db2-a0a2-03a5fef2ffc0"
      },
      "execution_count": null,
      "outputs": [
        {
          "output_type": "stream",
          "name": "stdout",
          "text": [
            "12\n"
          ]
        }
      ]
    },
    {
      "cell_type": "code",
      "source": [
        "#Slicing\n",
        "#You can return a range of characters by using the slice syntax\n",
        "#Get the characters from position 2 to position 5 (not included):\n",
        "\n",
        "b = \"Hello, World!\"\n",
        "print(b[2:5])\n",
        "\n",
        "i = \"kumkum\"\n",
        "print(i[1:3])"
      ],
      "metadata": {
        "colab": {
          "base_uri": "https://localhost:8080/"
        },
        "id": "5cOD6qB55dXJ",
        "outputId": "75197d6d-d4d9-4b67-f0cb-2c04d5a1ab10"
      },
      "execution_count": null,
      "outputs": [
        {
          "output_type": "stream",
          "name": "stdout",
          "text": [
            "llo\n",
            "um\n"
          ]
        }
      ]
    },
    {
      "cell_type": "code",
      "source": [
        "#By leaving out the start index, the range will start at the first character:\n",
        "\n",
        "#Example\n",
        "#Get the characters from the start to position 5 (not included):\n",
        "\n",
        "b = \"Hello, World!\"\n",
        "print(b[:5])"
      ],
      "metadata": {
        "colab": {
          "base_uri": "https://localhost:8080/"
        },
        "id": "A-6UPTRx5qCo",
        "outputId": "1b090724-96a8-42f6-e498-26e7eb68b3fd"
      },
      "execution_count": null,
      "outputs": [
        {
          "output_type": "stream",
          "name": "stdout",
          "text": [
            "Hello\n"
          ]
        }
      ]
    },
    {
      "cell_type": "code",
      "source": [
        "#Slice To the End\n",
        "#By leaving out the end index, the range will go to the end:\n",
        "\n",
        "#Example\n",
        "#Get the characters from position 2, and all the way to the end:\n",
        "\n",
        "b = \"Hello, World!\"\n",
        "print(b[2:])"
      ],
      "metadata": {
        "colab": {
          "base_uri": "https://localhost:8080/"
        },
        "id": "SnXTwEdQ5vsg",
        "outputId": "272d1bac-862d-4475-e44d-ec8f8702b4b5"
      },
      "execution_count": null,
      "outputs": [
        {
          "output_type": "stream",
          "name": "stdout",
          "text": [
            "llo, World!\n"
          ]
        }
      ]
    },
    {
      "cell_type": "code",
      "source": [
        "#Negative Indexing\n",
        "#Use negative indexes to start the slice from the end of the string:\n",
        "#Example\n",
        "#Get the characters:\n",
        "\n",
        "#From: \"o\" in \"World!\" (position -5)\n",
        "\n",
        "#To, but not included: \"d\" in \"World!\" (position -2):\n",
        "\n",
        "b = \"Hello, World!\"\n",
        "print(b[-5:-2])\n",
        "\n",
        "L = \"Sumit, world\"\n",
        "print(L[-1:-3])\n"
      ],
      "metadata": {
        "colab": {
          "base_uri": "https://localhost:8080/"
        },
        "id": "eHs8CopU526q",
        "outputId": "e7355927-d4b4-47f8-e7bb-dd9306780b0d"
      },
      "execution_count": null,
      "outputs": [
        {
          "output_type": "stream",
          "name": "stdout",
          "text": [
            "orl\n",
            "\n"
          ]
        }
      ]
    },
    {
      "cell_type": "code",
      "source": [
        "#Upper Case\n",
        "#Example\n",
        "#The upper() method returns the string in Upper case:\n",
        "x = \"He is a boy\"\n",
        "print(x.upper())\n",
        "\n",
        "#Lower Case\n",
        "#Example\n",
        "#The lower() method returns the string in lower case:\n",
        "\n",
        "a = \"Hello, World!\"\n",
        "print(a.lower())"
      ],
      "metadata": {
        "colab": {
          "base_uri": "https://localhost:8080/"
        },
        "id": "We1QMOSp6kXM",
        "outputId": "1c7c432d-414d-4917-d1c5-c1cd3dd479b1"
      },
      "execution_count": null,
      "outputs": [
        {
          "output_type": "stream",
          "name": "stdout",
          "text": [
            "HE IS A BOY\n",
            "hello, world!\n"
          ]
        }
      ]
    },
    {
      "cell_type": "code",
      "source": [
        "#Remove Whitespace\n",
        "#Whitespace is the space before and/or after the actual text, and very often you want to remove this space.\n",
        "\n",
        "#Example\n",
        "#The strip() method removes any whitespace from the beginning or the end:\n",
        "\n",
        "a = \" Hello, World! \"\n",
        "print(a.strip()) # returns \"Hello, World!\"\n",
        "\n",
        "x = \"            kofekfoke nfienfienf                   \"\n",
        "print(x.strip())"
      ],
      "metadata": {
        "colab": {
          "base_uri": "https://localhost:8080/"
        },
        "id": "di9pWa276-tN",
        "outputId": "3bafd4df-58db-424a-efa4-a889df2e65b2"
      },
      "execution_count": null,
      "outputs": [
        {
          "output_type": "stream",
          "name": "stdout",
          "text": [
            "Hello, World!\n",
            "kofekfoke nfienfienf\n"
          ]
        }
      ]
    },
    {
      "cell_type": "code",
      "source": [
        "#Example\n",
        "#The replace() method replaces a string with another string:\n",
        "\n",
        "a = \"Hello, World!\"\n",
        "print(a.replace(\"H\", \"J\"))\n",
        "\n",
        "x = \"Hello World\"\n",
        "print(x.replace(\"Hello World\", \"SUMIT\"))"
      ],
      "metadata": {
        "colab": {
          "base_uri": "https://localhost:8080/"
        },
        "id": "P_AV_zuk7qmS",
        "outputId": "78353941-ed7f-4410-b9c4-d3a70bbdcb1c"
      },
      "execution_count": null,
      "outputs": [
        {
          "output_type": "stream",
          "name": "stdout",
          "text": [
            "Jello, World!\n",
            "SUMIT\n"
          ]
        }
      ]
    },
    {
      "cell_type": "code",
      "source": [
        "#Split String\n",
        "#The split() method returns a list where the text between the specified separator becomes the list items.\n",
        "\n",
        "#Example\n",
        "#The split() method splits the string into substrings if it finds instances of the separator:\n",
        "\n",
        "a = \"Hello, World!\"\n",
        "print(a.split())\n",
        "\n",
        "a = \"Hello World Sumit\"\n",
        "print(a.split())"
      ],
      "metadata": {
        "colab": {
          "base_uri": "https://localhost:8080/"
        },
        "id": "WeNqZCvh8Ejw",
        "outputId": "83cfb1d5-92d7-4442-f855-f4c79a3fb9e4"
      },
      "execution_count": null,
      "outputs": [
        {
          "output_type": "stream",
          "name": "stdout",
          "text": [
            "['Hello,', 'World!']\n",
            "['Hello', 'World', 'Sumit']\n"
          ]
        }
      ]
    },
    {
      "cell_type": "code",
      "source": [
        "#String Concatenation\n",
        "#To concatenate, or combine, two strings you can use the + operator.\n",
        "\n",
        "#ExampleGet your own Python Server\n",
        "#Merge variable a with variable b into variable c:\n",
        "\n",
        "a = \"Hello\"\n",
        "b = \"World\"\n",
        "c = a + b\n",
        "print(c)\n",
        "\n",
        "a = \"Hello\"\n",
        "b = \"World\"\n",
        "c = a + \" \" + b\n",
        "print(c)"
      ],
      "metadata": {
        "id": "UuGTt0Y08ZIA",
        "outputId": "6b78d393-492e-497e-f6c4-93e38c6021ba",
        "colab": {
          "base_uri": "https://localhost:8080/"
        }
      },
      "execution_count": null,
      "outputs": [
        {
          "output_type": "stream",
          "name": "stdout",
          "text": [
            "HelloWorld\n",
            "Hello World\n"
          ]
        }
      ]
    }
  ]
}