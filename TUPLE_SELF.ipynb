{
  "nbformat": 4,
  "nbformat_minor": 0,
  "metadata": {
    "colab": {
      "provenance": []
    },
    "kernelspec": {
      "name": "python3",
      "display_name": "Python 3"
    },
    "language_info": {
      "name": "python"
    }
  },
  "cells": [
    {
      "cell_type": "code",
      "execution_count": null,
      "metadata": {
        "colab": {
          "base_uri": "https://localhost:8080/"
        },
        "id": "1IHPfsoMqWcG",
        "outputId": "70676ac1-36ac-4fdc-96b6-fcc52a823593"
      },
      "outputs": [
        {
          "output_type": "stream",
          "name": "stdout",
          "text": [
            "('apple', 'banana', 'cherry')\n"
          ]
        }
      ],
      "source": [
        "mytuple = (\"apple\",\"banana\",\"cherry\")\n",
        "print(mytuple)"
      ]
    },
    {
      "cell_type": "code",
      "source": [
        "#read from note book\n",
        "#thory till allow duplicate"
      ],
      "metadata": {
        "id": "y6QM3xiZtWkl"
      },
      "execution_count": null,
      "outputs": []
    },
    {
      "cell_type": "code",
      "source": [
        "#Tuple allow duplicate value\n",
        "Tuple = (\"apple\",\"mango\",\"kiwi\",\"cherry\",\"orange\",\"apple\")\n",
        "print(Tuple)\n",
        "\n",
        "Tuple1 = (\"apple\",\"Mango\",\"apple\",\"Mango\",\"Apple\")\n",
        "print(Tuple1)"
      ],
      "metadata": {
        "colab": {
          "base_uri": "https://localhost:8080/"
        },
        "id": "ecRPIpKzvgYr",
        "outputId": "079f963e-5d14-4154-8acc-50d34200816c"
      },
      "execution_count": null,
      "outputs": [
        {
          "output_type": "stream",
          "name": "stdout",
          "text": [
            "('apple', 'mango', 'kiwi', 'cherry', 'orange', 'apple')\n",
            "('apple', 'Mango', 'apple', 'Mango', 'Apple')\n"
          ]
        }
      ]
    },
    {
      "cell_type": "code",
      "source": [
        "#Tuple length\n",
        "#To determine how many items a tuple has, use the len() function:\n",
        "Tuple = (\"Sumit\",\"Ankit\",\"Satyam\",\"rustom\")\n",
        "print(len(Tuple))\n",
        "\n",
        "Tuple = (\"sumit\",\"rishu\",\"aniket\")\n",
        "print(len(Tuple))"
      ],
      "metadata": {
        "colab": {
          "base_uri": "https://localhost:8080/"
        },
        "id": "cHbG4GIiv26h",
        "outputId": "6834773a-6595-4b18-97bc-709944a1c4c7"
      },
      "execution_count": 1,
      "outputs": [
        {
          "output_type": "stream",
          "name": "stdout",
          "text": [
            "4\n",
            "3\n"
          ]
        }
      ]
    },
    {
      "cell_type": "code",
      "source": [
        "#one item tuple remeber the comma\n",
        "Tuple = (\"apple\",\"Kiwi\",)\n",
        "print(type(Tuple))\n",
        "\n",
        "Tuple = (\"apple\",\"Kiwi\")\n",
        "print(type(Tuple))"
      ],
      "metadata": {
        "colab": {
          "base_uri": "https://localhost:8080/"
        },
        "id": "J7olWo0_wfiw",
        "outputId": "f51f6699-6b73-4469-950a-88378052ec2a"
      },
      "execution_count": null,
      "outputs": [
        {
          "output_type": "stream",
          "name": "stdout",
          "text": [
            "<class 'tuple'>\n",
            "<class 'tuple'>\n"
          ]
        }
      ]
    },
    {
      "cell_type": "code",
      "source": [
        "Tuple = (\"apple\")\n",
        "print(type(Tuple))"
      ],
      "metadata": {
        "colab": {
          "base_uri": "https://localhost:8080/"
        },
        "id": "56oLp760wtAN",
        "outputId": "1109abae-3365-46b9-e4e0-38566fdc7b7a"
      },
      "execution_count": null,
      "outputs": [
        {
          "output_type": "stream",
          "name": "stdout",
          "text": [
            "<class 'str'>\n"
          ]
        }
      ]
    },
    {
      "cell_type": "code",
      "source": [
        "#Tuple item Data types\n",
        "#Tuple item can be of any data type\n",
        "\n",
        "#Example\n",
        "#string, int and boolean data types:\n",
        "tuple1 = (\"sumit\",\"Kiwi\",\"cherry\",\"banana\")\n",
        "tuple2 = (1,2,3,4,5)\n",
        "tuple3 = ( True, False)\n",
        "print(tuple1)\n",
        "print(tuple2)\n",
        "print(tuple3)"
      ],
      "metadata": {
        "colab": {
          "base_uri": "https://localhost:8080/"
        },
        "id": "xUygUNAKxDTD",
        "outputId": "c8797ab0-973b-4f0c-b811-a5682305d748"
      },
      "execution_count": null,
      "outputs": [
        {
          "output_type": "stream",
          "name": "stdout",
          "text": [
            "('sumit', 'Kiwi', 'cherry', 'banana')\n",
            "(1, 2, 3, 4, 5)\n",
            "(True, False)\n",
            "('Amit', 'Kiwi', 'cherry')\n"
          ]
        }
      ]
    },
    {
      "cell_type": "code",
      "source": [
        "#A tuple can contain different data types:\n",
        "#A tuple with strings, integers and boolean values:\n",
        "\n",
        "tuple1 = (\"abc\", 34, True, 40, \"male\")\n",
        "print(tuple1)"
      ],
      "metadata": {
        "colab": {
          "base_uri": "https://localhost:8080/"
        },
        "id": "9HYx_7Idx2YM",
        "outputId": "0c2d6cfc-37e6-4913-b3e2-428640fa235d"
      },
      "execution_count": null,
      "outputs": [
        {
          "output_type": "stream",
          "name": "stdout",
          "text": [
            "('abc', 34, True, 40, 'male')\n"
          ]
        }
      ]
    },
    {
      "cell_type": "code",
      "source": [
        "#type()\n",
        "#What is the data type of a tuple?\n",
        "\n",
        "tuple1 = (\"apple\",\"banana\",\"cherry\")\n",
        "print(type(tuple1))"
      ],
      "metadata": {
        "colab": {
          "base_uri": "https://localhost:8080/"
        },
        "id": "-qQeRmMkyUk0",
        "outputId": "af6e4356-7bff-457e-cb32-934a6a485d3d"
      },
      "execution_count": null,
      "outputs": [
        {
          "output_type": "stream",
          "name": "stdout",
          "text": [
            "<class 'tuple'>\n"
          ]
        }
      ]
    },
    {
      "cell_type": "code",
      "source": [
        "#Access Tuple Items\n",
        "Thistuple = (\"apple\",\"banana\",\"kiwi\")\n",
        "print(Thistuple[1])\n",
        "\n",
        "Tuple = (\"Sumit\",\"Ankit\",\"Partham\")\n",
        "print(Tuple[0])"
      ],
      "metadata": {
        "colab": {
          "base_uri": "https://localhost:8080/"
        },
        "id": "Ntq8-3iKziWW",
        "outputId": "28fd6c7c-a848-4a2d-8879-4c08438441c6"
      },
      "execution_count": 2,
      "outputs": [
        {
          "output_type": "stream",
          "name": "stdout",
          "text": [
            "banana\n",
            "Sumit\n"
          ]
        }
      ]
    },
    {
      "cell_type": "code",
      "source": [
        "#Note: The first item has index 0."
      ],
      "metadata": {
        "id": "hwQc08Kezvj6"
      },
      "execution_count": null,
      "outputs": []
    },
    {
      "cell_type": "code",
      "source": [
        "#Negative Indexing\n",
        "#Print the last item of the tuple:\n",
        "\n",
        "thistuple = (\"apple\", \"banana\", \"cherry\")\n",
        "print(thistuple[-1])"
      ],
      "metadata": {
        "colab": {
          "base_uri": "https://localhost:8080/"
        },
        "id": "0fFPWkROzxei",
        "outputId": "1fa83ab5-af95-4194-c63e-e43f52f67eb5"
      },
      "execution_count": null,
      "outputs": [
        {
          "output_type": "stream",
          "name": "stdout",
          "text": [
            "cherry\n"
          ]
        }
      ]
    },
    {
      "cell_type": "code",
      "source": [
        "#Range of Indexes\n",
        "#Example\n",
        "#Return the third, fourth, and fifth item:\n",
        "\n",
        "thistuple = (\"apple\", \"banana\", \"cherry\", \"orange\", \"kiwi\", \"melon\", \"mango\")\n",
        "print(thistuple[2:5])"
      ],
      "metadata": {
        "colab": {
          "base_uri": "https://localhost:8080/"
        },
        "id": "UlHmj_-v0RVS",
        "outputId": "dd898f64-cd1a-49b2-9052-8cce155a0fd2"
      },
      "execution_count": null,
      "outputs": [
        {
          "output_type": "stream",
          "name": "stdout",
          "text": [
            "('cherry', 'orange', 'kiwi')\n"
          ]
        }
      ]
    },
    {
      "cell_type": "code",
      "source": [
        "#Note: The search will start at index 2 (included) and end at index 5 (not included)."
      ],
      "metadata": {
        "id": "qDl0484y09bp"
      },
      "execution_count": null,
      "outputs": []
    },
    {
      "cell_type": "code",
      "source": [
        "#Example\n",
        "#This example returns the items from the beginning to, but NOT included, \"kiwi\":\n",
        "\n",
        "thistuple = (\"apple\", \"banana\", \"cherry\", \"orange\", \"kiwi\", \"melon\", \"mango\")\n",
        "print(thistuple[:4])"
      ],
      "metadata": {
        "colab": {
          "base_uri": "https://localhost:8080/"
        },
        "id": "FDFXGtRL1F9Q",
        "outputId": "e6d68541-f5a4-4389-9b8d-d7ee796982b5"
      },
      "execution_count": null,
      "outputs": [
        {
          "output_type": "stream",
          "name": "stdout",
          "text": [
            "('apple', 'banana', 'cherry', 'orange')\n"
          ]
        }
      ]
    },
    {
      "cell_type": "code",
      "source": [
        "#Example\n",
        "#his example returns the items from \"cherry\" and to the end:\n",
        "\n",
        "thistuple = (\"apple\", \"banana\", \"cherry\", \"orange\", \"kiwi\", \"melon\", \"mango\")\n",
        "print(thistuple[2:])\n"
      ],
      "metadata": {
        "colab": {
          "base_uri": "https://localhost:8080/"
        },
        "id": "D33RN4-o1MzM",
        "outputId": "e3ddbc68-a2ae-409c-c5f7-b6c5e8d2a2fd"
      },
      "execution_count": null,
      "outputs": [
        {
          "output_type": "stream",
          "name": "stdout",
          "text": [
            "('cherry', 'orange', 'kiwi', 'melon', 'mango')\n"
          ]
        }
      ]
    },
    {
      "cell_type": "code",
      "source": [
        "#Rnage of Negative Indexes\n",
        "#Specify negative indexes if you want to start the search from the end of the tuple:\n",
        "\n",
        "#This example returns the items from index -4 (included) to index -1 (excluded)\n",
        "Thistuple = (\"apple\",\"banana\",\"cherry\",\"orange\",\"Kiwi\",\"melon\",\"Mango\")\n",
        "print(Thistuple[-4:-1])\n"
      ],
      "metadata": {
        "colab": {
          "base_uri": "https://localhost:8080/"
        },
        "id": "TPVBOZom1TpL",
        "outputId": "6ad03c91-9908-4c22-baec-ca43e08fcea9"
      },
      "execution_count": null,
      "outputs": [
        {
          "output_type": "stream",
          "name": "stdout",
          "text": [
            "('orange', 'Kiwi', 'melon')\n"
          ]
        }
      ]
    },
    {
      "cell_type": "code",
      "source": [
        "#Check if Item Exists\n",
        "#Check if \"apple\" is present in the tuple:\n",
        "Thistuple = (\"apple\",\"banana\",\"cherry\")\n",
        "if \"apple\" in Thistuple:\n",
        "  print(\"Yes, apple\")\n",
        "\n",
        "Tuple = (\"Sumit\",\"Amit\",\"Jatin\")\n",
        "if \"Usha\" in Tuple:\n",
        "  print(\"Yes\")\n",
        "else:\n",
        "  print(\"No\")"
      ],
      "metadata": {
        "colab": {
          "base_uri": "https://localhost:8080/"
        },
        "id": "2I7yFKhb2WEC",
        "outputId": "bd7247a9-b961-4ba2-b4bd-e17f6afe31d5"
      },
      "execution_count": null,
      "outputs": [
        {
          "output_type": "stream",
          "name": "stdout",
          "text": [
            "Yes, apple\n",
            "No\n"
          ]
        }
      ]
    },
    {
      "cell_type": "code",
      "source": [
        "thistuple = (\"apple\", \"banana\", \"cherry\")\n",
        "y = (\"orange\",)\n",
        "thistuple += y\n",
        "\n",
        "print(thistuple)"
      ],
      "metadata": {
        "colab": {
          "base_uri": "https://localhost:8080/"
        },
        "id": "64v09af19ct5",
        "outputId": "dbca0518-ae65-4ed2-db46-375473805a74"
      },
      "execution_count": 3,
      "outputs": [
        {
          "output_type": "stream",
          "name": "stdout",
          "text": [
            "('apple', 'banana', 'cherry', 'orange')\n"
          ]
        }
      ]
    },
    {
      "cell_type": "code",
      "source": [
        "#Remove Items\n",
        "#Example\n",
        "#Convert the tuple into a list, remove \"apple\", and convert it back into a tuple:\n",
        "\n",
        "thistuple = (\"apple\",\"banana\",\"cherry\")\n",
        "y1 = list(thistuple)\n",
        "y1.remove(\"apple\")\n",
        "thistuple = tuple(y1)\n",
        "print(thistuple)"
      ],
      "metadata": {
        "colab": {
          "base_uri": "https://localhost:8080/"
        },
        "id": "yG1vuU3r9nY-",
        "outputId": "878d9f1e-fb79-4f87-9fae-8e08bfa62698"
      },
      "execution_count": 4,
      "outputs": [
        {
          "output_type": "stream",
          "name": "stdout",
          "text": [
            "('banana', 'cherry')\n"
          ]
        }
      ]
    },
    {
      "cell_type": "code",
      "source": [
        "#Example\n",
        "#The del keyword can delete the tuple completely:\n",
        "\n",
        "#del thistuple\n"
      ],
      "metadata": {
        "id": "aKnSGqGl-ROY"
      },
      "execution_count": null,
      "outputs": []
    },
    {
      "cell_type": "code",
      "source": [
        "#What is packing ?\n",
        "#unpacking a Tuple\n",
        "#When we create a tuple, we normally assign values to it. This is called \"packing\" a tuple:\n",
        "\n",
        "#Packing a tuple:\n",
        "\n",
        "#fruits = (\"apple\", \"banana\", \"cherry\")\n",
        "\n",
        "#But, in Python, we are also allowed to extract the values back into variables. This is called \"unpacking\":"
      ],
      "metadata": {
        "id": "-NoLj2V1_C8u"
      },
      "execution_count": null,
      "outputs": []
    },
    {
      "cell_type": "code",
      "source": [
        "#Example\n",
        "#Unpacking a tuple:\n",
        "\n",
        "fruits = (\"apple\",\"banana\",\"cherry\")\n",
        "\n",
        "(green, yellow, red) = fruits\n",
        "print(green)\n",
        "print(yellow)\n",
        "print(red)\n"
      ],
      "metadata": {
        "colab": {
          "base_uri": "https://localhost:8080/"
        },
        "id": "V3Tq5gqo_Yg6",
        "outputId": "56c5b237-9346-45af-ee29-3b2bf96680f5"
      },
      "execution_count": 5,
      "outputs": [
        {
          "output_type": "stream",
          "name": "stdout",
          "text": [
            "apple\n",
            "banana\n",
            "cherry\n"
          ]
        }
      ]
    },
    {
      "cell_type": "code",
      "source": [
        "fruits = (\"apple\", \"banana\", \"cherry\", \"strawberry\", \"raspberry\")\n",
        "\n",
        "(green, yellow, *red) = fruits\n",
        "\n",
        "print(green)\n",
        "print(yellow)\n",
        "print(red)"
      ],
      "metadata": {
        "colab": {
          "base_uri": "https://localhost:8080/"
        },
        "id": "1qYisGv7ABxt",
        "outputId": "4bf51c29-5f91-4d3e-a531-2a80353dd8e8"
      },
      "execution_count": null,
      "outputs": [
        {
          "output_type": "stream",
          "name": "stdout",
          "text": [
            "apple\n",
            "banana\n",
            "['cherry', 'strawberry', 'raspberry']\n"
          ]
        }
      ]
    },
    {
      "cell_type": "code",
      "source": [
        "fruits = (\"apple\", \"mango\", \"papaya\", \"pineapple\",\"Kiwi\",\"cherry\")\n",
        "\n",
        "(green, *tropic, red) = fruits\n",
        "\n",
        "print(green)\n",
        "print(tropic)\n",
        "print(red)"
      ],
      "metadata": {
        "colab": {
          "base_uri": "https://localhost:8080/"
        },
        "id": "tvqX3qeXALeD",
        "outputId": "c394a6ed-962f-480c-f9b3-b37cf0463c34"
      },
      "execution_count": null,
      "outputs": [
        {
          "output_type": "stream",
          "name": "stdout",
          "text": [
            "apple\n",
            "['mango', 'papaya', 'pineapple', 'Kiwi']\n",
            "cherry\n"
          ]
        }
      ]
    },
    {
      "cell_type": "code",
      "source": [
        "#Python - Loop Tuples\n",
        "#Loop Through a Tuple\n",
        "#You can loop through the tuple items by using a for loop.\n",
        "#Iterate through the items and print the values:\n",
        "\n",
        "thistuple = (\"apple\", \"banana\", \"cherry\")\n",
        "for x in thistuple:\n",
        "  print(x)\n",
        "\n",
        "Tuple = (\"apple\")\n",
        "for x in Tuple:\n",
        "  print(x)\n"
      ],
      "metadata": {
        "colab": {
          "base_uri": "https://localhost:8080/"
        },
        "id": "VoQD2hdBAm9S",
        "outputId": "5de81217-efb0-4ce7-aa73-6a360e02fbe0"
      },
      "execution_count": null,
      "outputs": [
        {
          "output_type": "stream",
          "name": "stdout",
          "text": [
            "apple\n",
            "banana\n",
            "cherry\n",
            "a\n",
            "p\n",
            "p\n",
            "l\n",
            "e\n"
          ]
        }
      ]
    },
    {
      "cell_type": "code",
      "source": [
        "#Loop Through the Index Numbers\n",
        "#You can also loop through the tuple items by referring to their index number.\n",
        "\n",
        "#Use the range() and len() functions to create a suitable iterable.\n",
        "#Print all items by referring to their index number:\n",
        "\n",
        "thistuple = (\"apple\", \"banana\", \"cherry\")\n",
        "for u in range(len(thistuple)):\n",
        "  print(thistuple[u])"
      ],
      "metadata": {
        "colab": {
          "base_uri": "https://localhost:8080/"
        },
        "id": "ZnnR2cEwAwEG",
        "outputId": "09eb6907-0a69-493f-8d33-5e3c19132d6b"
      },
      "execution_count": null,
      "outputs": [
        {
          "output_type": "stream",
          "name": "stdout",
          "text": [
            "apple\n",
            "banana\n",
            "cherry\n"
          ]
        }
      ]
    },
    {
      "cell_type": "code",
      "source": [
        "#Using a While Loop\n",
        "#You can loop through the tuple items by using a while loop.\n",
        "#Remember to increase the index by 1 after each iteration.\n",
        "\n",
        "\n",
        "#Print all items, using a while loop to go through all the index numbers:\n",
        "\n",
        "thistuple = (\"apple\", \"banana\", \"cherry\")\n",
        "i = 0\n",
        "while i < len(thistuple):\n",
        "  print(thistuple[i])\n",
        "  i = i + 1\n",
        "\n",
        "Tuple = (\"apple\",\"banana\",\"cherry\")\n",
        "i = 0\n",
        "while i < len(Tuple):\n",
        "  print(Tuple[i])\n",
        "  i = i + 1"
      ],
      "metadata": {
        "colab": {
          "base_uri": "https://localhost:8080/"
        },
        "id": "r5hE9-VqA7Y9",
        "outputId": "902d3489-0ec8-47f3-a95a-c1fe4ba9b1f1"
      },
      "execution_count": null,
      "outputs": [
        {
          "output_type": "stream",
          "name": "stdout",
          "text": [
            "apple\n",
            "banana\n",
            "cherry\n",
            "apple\n",
            "banana\n",
            "cherry\n"
          ]
        }
      ]
    },
    {
      "cell_type": "code",
      "source": [
        "#- Join Tuples\n",
        "#Join Two Tuples\n",
        "#To join two or more tuples you can use the + operator:"
      ],
      "metadata": {
        "id": "bCH_DixNBFuG"
      },
      "execution_count": null,
      "outputs": []
    },
    {
      "cell_type": "code",
      "source": [
        "#Join two tuples:\n",
        "\n",
        "tuple1 = (\"a\", \"b\" , \"c\")\n",
        "tuple2 = (1, 2, 3)\n",
        "\n",
        "tuple3 = tuple1 + tuple2\n",
        "print(tuple3)\n",
        "\n",
        "Tuple = (\"l\",\"s\",\"d\")\n",
        "Tuple1 = (\"sum\",\"sd\",1)\n",
        "Tuple2  = Tuple + Tuple1\n",
        "print(Tuple2)"
      ],
      "metadata": {
        "id": "lDnCKt1LBRM1",
        "outputId": "ca652053-b871-43b8-e592-d93fa64ba79c",
        "colab": {
          "base_uri": "https://localhost:8080/"
        }
      },
      "execution_count": null,
      "outputs": [
        {
          "output_type": "stream",
          "name": "stdout",
          "text": [
            "('a', 'b', 'c', 1, 2, 3)\n",
            "('l', 's', 'd', 'sum', 'sd', 1)\n"
          ]
        }
      ]
    },
    {
      "cell_type": "code",
      "source": [
        "#Multiply Tuples\n",
        "#If you want to multiply the content of a tuple a given number of times, you can use the * operator:\n",
        "\n",
        "#Example\n",
        "#Multiply the fruits tuple by 2:\n",
        "\n",
        "fruits = (\"apple\", \"banana\", \"cherry\")\n",
        "mytuple = fruits * 2\n",
        "\n",
        "print(mytuple)\n",
        "\n",
        "x = (\"apple\",\"Banana\",\"cherry\")\n",
        "mytuple = x*1\n",
        "print(mytuple)"
      ],
      "metadata": {
        "id": "eool_fP7BTo2",
        "outputId": "fce13414-3de2-43ca-d3d5-e300992a1a6f",
        "colab": {
          "base_uri": "https://localhost:8080/"
        }
      },
      "execution_count": 6,
      "outputs": [
        {
          "output_type": "stream",
          "name": "stdout",
          "text": [
            "('apple', 'banana', 'cherry', 'apple', 'banana', 'cherry')\n",
            "('apple', 'Banana', 'cherry')\n"
          ]
        }
      ]
    }
  ]
}