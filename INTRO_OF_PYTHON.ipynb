{
  "nbformat": 4,
  "nbformat_minor": 0,
  "metadata": {
    "colab": {
      "provenance": []
    },
    "kernelspec": {
      "name": "python3",
      "display_name": "Python 3"
    },
    "language_info": {
      "name": "python"
    }
  },
  "cells": [
    {
      "cell_type": "code",
      "execution_count": null,
      "metadata": {
        "colab": {
          "base_uri": "https://localhost:8080/"
        },
        "id": "QXtQUgpCtU9M",
        "outputId": "402738d8-edcf-41a7-e41e-8faca8bff3eb"
      },
      "outputs": [
        {
          "output_type": "stream",
          "name": "stdout",
          "text": [
            "Hello world\n"
          ]
        }
      ],
      "source": [
        "print(\"Hello world\")"
      ]
    },
    {
      "cell_type": "code",
      "source": [
        "x = 5\n",
        "y = \"Sumit\"\n",
        "z = 2.4\n",
        "print(x)\n",
        "print(y)\n",
        "print(z)\n",
        "\n",
        "x = 5\n",
        "y = \"Sumit\"\n",
        "z = 2.4\n",
        "u = 3j\n",
        "print(type(x))\n",
        "print(type(y))\n",
        "print(type(z))\n",
        "print(type(u))"
      ],
      "metadata": {
        "colab": {
          "base_uri": "https://localhost:8080/"
        },
        "id": "Hg4AAAvUwes-",
        "outputId": "45ab1272-9208-4628-aece-d49716bfcfbd"
      },
      "execution_count": null,
      "outputs": [
        {
          "output_type": "stream",
          "name": "stdout",
          "text": [
            "5\n",
            "Sumit\n",
            "2.4\n",
            "<class 'int'>\n",
            "<class 'str'>\n",
            "<class 'float'>\n",
            "<class 'complex'>\n"
          ]
        }
      ]
    },
    {
      "cell_type": "code",
      "source": [
        "#variable\n",
        "a = [1]"
      ],
      "metadata": {
        "id": "JcKctPaKuOHn"
      },
      "execution_count": null,
      "outputs": []
    },
    {
      "cell_type": "code",
      "source": [
        "a = [\"Sumit\",'Rahul']\n",
        "print(a)\n",
        "_a = [\"Sumit\",'Rahul']\n",
        "print(a)\n",
        "_a2 = [\"Sumit\",'Rahul']\n",
        "print(_a2)"
      ],
      "metadata": {
        "colab": {
          "base_uri": "https://localhost:8080/"
        },
        "id": "P1wA037dueVE",
        "outputId": "6b60513e-2ddb-4500-87bf-38c004fc89b4"
      },
      "execution_count": null,
      "outputs": [
        {
          "output_type": "stream",
          "name": "stdout",
          "text": [
            "['Sumit', 'Rahul']\n",
            "['Sumit', 'Rahul']\n",
            "['Sumit', 'Rahul']\n"
          ]
        }
      ]
    },
    {
      "cell_type": "code",
      "source": [
        "#single quote or Double Quotes\n",
        "w = \"Sumit\"\n",
        "y = 'YOYO'\n",
        "e = \"su'e'tr\"\n",
        "print(w)\n",
        "print(y)\n",
        "print(e)"
      ],
      "metadata": {
        "colab": {
          "base_uri": "https://localhost:8080/"
        },
        "id": "5VdHf0XyxVRH",
        "outputId": "2f36d397-4110-4622-eabe-ed7965d64640"
      },
      "execution_count": null,
      "outputs": [
        {
          "output_type": "stream",
          "name": "stdout",
          "text": [
            "Sumit\n",
            "YOYO\n",
            "su'e'tr\n"
          ]
        }
      ]
    },
    {
      "cell_type": "code",
      "source": [
        "#Case sensitive\n",
        "# variable names are case-sensitive.\n",
        "a = 4\n",
        "A = \"Sally\"\n",
        "print(a)\n",
        "print(A)\n",
        "\n",
        "#Means Variable or (print value) should same like capital Letter or small letter"
      ],
      "metadata": {
        "id": "FHWU72PdxtM-"
      },
      "execution_count": null,
      "outputs": []
    },
    {
      "cell_type": "code",
      "source": [
        "#Multi Words variable names\n",
        "#varibale name with more one word can be difficult to read\n",
        "\n",
        "#CAMEL CASE\n",
        "#Each word, except the first starts with a capital letter.\n",
        "myVariableName = 'John'\n",
        "\n",
        "#PASCAL CASE\n",
        "#Each word starts with capital letter\n",
        "MyVariableName = 'John'\n",
        "\n",
        "#SNAKE CASE\n",
        "#Each word is seprated by a underscore character\n",
        "My_Varibale_Name = 'John'"
      ],
      "metadata": {
        "id": "gW01vM8jyWvO"
      },
      "execution_count": null,
      "outputs": []
    },
    {
      "cell_type": "code",
      "source": [
        "#many values to multiple variable\n",
        "x, y, z = [\"orange\",\"banana\",\"kiwi\"]\n",
        "print(x)\n",
        "print(y)\n",
        "print(z)\n",
        "\n",
        "#one value in multiple variable\n",
        "x = y = z = [\"orange\"]\n",
        "print(x)\n",
        "print(y)\n",
        "print(z)"
      ],
      "metadata": {
        "colab": {
          "base_uri": "https://localhost:8080/"
        },
        "id": "KBt_One2vEU4",
        "outputId": "6da86309-ce3c-4dce-f99b-7881276b6e7a"
      },
      "execution_count": null,
      "outputs": [
        {
          "output_type": "stream",
          "name": "stdout",
          "text": [
            "orange\n",
            "banana\n",
            "kiwi\n",
            "['orange']\n",
            "['orange']\n",
            "['orange']\n"
          ]
        }
      ]
    },
    {
      "cell_type": "code",
      "source": [
        "##Legal variable names:\n",
        "myvar = 'John'\n",
        "my_var = 'John'\n",
        "_my_var = 'John'\n",
        "myVaR = 'John'\n",
        "MYVAR = 'John'\n",
        "myvar2 = 'John'"
      ],
      "metadata": {
        "id": "hez8z85KxyJ9"
      },
      "execution_count": null,
      "outputs": []
    },
    {
      "cell_type": "code",
      "source": [
        "#Illegal variable names:\n",
        "\n",
        "2myvar = \"John\"\n",
        "my-var = \"John\"\n",
        "my var = \"John\"\n",
        "\n",
        "# error will come # error valid here"
      ],
      "metadata": {
        "id": "pyS5nIxzy3tm"
      },
      "execution_count": null,
      "outputs": []
    },
    {
      "cell_type": "code",
      "source": [
        "#Assign multiple variable values\n",
        "\n",
        "#Many values to multiple variable\n",
        "#python allow to assign multiple variable in one line.\n",
        "x,y,z = \"orange\", \"apple\", \"Kiwi\"\n",
        "print(x)\n",
        "print(y)\n",
        "print(z)\n",
        "\n",
        "A,B,C,D = \"apple\",\"lll\",\"kkk\",\"jjj\"\n",
        "print(A)\n",
        "print(B)\n",
        "print(C)\n",
        "print(D)"
      ],
      "metadata": {
        "id": "I6_XwK5HzB7_"
      },
      "execution_count": null,
      "outputs": []
    },
    {
      "cell_type": "code",
      "source": [
        "#One Value to Multiple Variables\n",
        "#And you can assign the same value to multiple variables in one line:\n",
        "\n",
        "#Example\n",
        "x = y = z = \"Orange\"\n",
        "print(x)\n",
        "print(y)\n",
        "print(z)\n",
        "\n",
        "k = l = h = \"SUMIT\"\n",
        "print(k)\n",
        "print(l)\n",
        "print(h)"
      ],
      "metadata": {
        "id": "2frmCswczGc1"
      },
      "execution_count": null,
      "outputs": []
    },
    {
      "cell_type": "code",
      "source": [
        "#Unpack a Collection\n",
        "#If you have a collection of values in a list, tuple etc. Python allows you to extract the values into variables. This is called unpacking.\n",
        "\n",
        "#Example\n",
        "#Unpack a list:\n",
        "\n",
        "Juice = [\"Mango Juice\",\"Apple Juice\",\"orange Juice\"]\n",
        "x, y, z = Juice\n",
        "print(x)\n",
        "print(y)\n",
        "print(z)"
      ],
      "metadata": {
        "colab": {
          "base_uri": "https://localhost:8080/"
        },
        "id": "tXrjAIKnzbRl",
        "outputId": "5c9bc2c3-1c35-4e33-fb1e-4d9e3368799b"
      },
      "execution_count": null,
      "outputs": [
        {
          "output_type": "stream",
          "name": "stdout",
          "text": [
            "Mango Juice\n",
            "Apple Juice\n",
            "orange Juice\n"
          ]
        }
      ]
    },
    {
      "cell_type": "code",
      "source": [
        "#Output Variables\n",
        "#The Python print() function is often used to output variables.\n",
        "x = \"python is cool\"\n",
        "print(x)\n",
        "\n",
        "#In the print() function, you output multiple variables, separated by a comma:\n",
        "x = \"Python\"\n",
        "y = \"is\"\n",
        "z = \"cool\"\n",
        "print(x,y,z)\n",
        "\n",
        "#You can use + operator to ouput multiple variable\n",
        "x = \"Python\"\n",
        "y = \"is\"\n",
        "z = \"cool\"\n",
        "print(x + y + z)\n",
        "\n"
      ],
      "metadata": {
        "colab": {
          "base_uri": "https://localhost:8080/"
        },
        "id": "Qy4gXoHB0B6A",
        "outputId": "04e4814a-1f5b-4f4d-f345-d4e9a8cffd7b"
      },
      "execution_count": null,
      "outputs": [
        {
          "output_type": "stream",
          "name": "stdout",
          "text": [
            "python is cool\n",
            "Python is cool\n",
            "Pythoniscool\n"
          ]
        }
      ]
    },
    {
      "cell_type": "code",
      "source": [
        "#In the print() function, when you try to combine a string and a number with the + operator,\n",
        "#Example\n",
        "x = 5\n",
        "y = \"John\"\n",
        "print(x + y)\n",
        "#Python will give you an error:"
      ],
      "metadata": {
        "id": "DoL_IaGI1VpB"
      },
      "execution_count": null,
      "outputs": []
    },
    {
      "cell_type": "code",
      "source": [
        "#Built-in Data Types\n",
        "#In programming, data type is an important concept.\n",
        "\n",
        "#Variables can store data of different types, and different types can do different things.\n",
        "\n",
        "#Python has the following data types built-in by default, in these categories:\n",
        "\n",
        "#Text Type:\tstr\n",
        "#Numeric Types:\tint, float, complex\n",
        "#Sequence Types:\tlist, tuple, range\n",
        "#Mapping Type:\tdict\n",
        "#Set Types:\tset, frozenset\n",
        "#Boolean Type:\tbool\n",
        "#Binary Types:\tbytes, bytearray, memoryview\n",
        "#None Type:\tNoneType\n",
        "\n",
        "#Example\tData Type\tTry it\n",
        "#x = \"Hello World\"\tstr\n",
        "#x = 20\tint\n",
        "#x = 20.5\tfloat\n",
        "#x = 1j\tcomplex\n",
        "#x = [\"apple\", \"banana\", \"cherry\"]\tlist\n",
        "#x = (\"apple\", \"banana\", \"cherry\")\ttuple\n",
        "#x = range(6)\trange\n",
        "#x = {\"name\" : \"John\", \"age\" : 36}\tdict\n",
        "#x = {\"apple\", \"banana\", \"cherry\"}\tset\n",
        "#x = frozenset({\"apple\", \"banana\", \"cherry\"})\tfrozenset\n",
        "#x = True\tbool\n",
        "#x = b\"Hello\"\tbytes\n",
        "#x = bytearray(5)\tbytearray\n",
        "#x = memoryview(bytes(5))\tmemoryview\n",
        "#x = None\tNoneType"
      ],
      "metadata": {
        "id": "xxihzkJU1bGN"
      },
      "execution_count": null,
      "outputs": []
    },
    {
      "cell_type": "code",
      "source": [
        "x = 1    # int\n",
        "y = 2.8  # float\n",
        "z = 1j   # complex\n",
        "print(type(x))\n",
        "print(type(y))\n",
        "print(type(z))\n",
        "\n",
        "x = 1\n",
        "y = 35656222554887711\n",
        "z = -3255522\n",
        "\n",
        "print(type(x))\n",
        "print(type(y))\n",
        "print(type(z))\n",
        "\n",
        "x = 1.10\n",
        "y = 1.0\n",
        "z = -35.59\n",
        "\n",
        "print(type(x))\n",
        "print(type(y))\n",
        "print(type(z))\n",
        "\n",
        "x = 35e3\n",
        "y = 12E4\n",
        "z = -87.7e100\n",
        "\n",
        "print(type(x))\n",
        "print(type(y))\n",
        "print(type(z))"
      ],
      "metadata": {
        "id": "w29JAS9C1lCr",
        "outputId": "bcac37c5-f7b0-43e1-9ea9-2a2d42baf641",
        "colab": {
          "base_uri": "https://localhost:8080/"
        }
      },
      "execution_count": null,
      "outputs": [
        {
          "output_type": "stream",
          "name": "stdout",
          "text": [
            "<class 'int'>\n",
            "<class 'float'>\n",
            "<class 'complex'>\n",
            "<class 'int'>\n",
            "<class 'int'>\n",
            "<class 'int'>\n",
            "<class 'float'>\n",
            "<class 'float'>\n",
            "<class 'float'>\n",
            "<class 'float'>\n",
            "<class 'float'>\n",
            "<class 'float'>\n"
          ]
        }
      ]
    }
  ]
}