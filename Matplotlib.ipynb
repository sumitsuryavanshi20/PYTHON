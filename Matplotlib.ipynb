{
 "cells": [
  {
   "cell_type": "code",
   "execution_count": null,
   "id": "a35a54a8-c3a0-4433-90c8-71191dcebafd",
   "metadata": {},
   "outputs": [],
   "source": [
    "#Matplotlib"
   ]
  },
  {
   "cell_type": "code",
   "execution_count": null,
   "id": "b7c8b8fb-bfd8-469e-9db3-1df76b761a4d",
   "metadata": {},
   "outputs": [],
   "source": [
    "import matplotlib.pyplot as plt\n",
    "import numpy as np"
   ]
  },
  {
   "cell_type": "code",
   "execution_count": null,
   "id": "edea82fe-1e0d-417e-b0f5-91f00b8c950b",
   "metadata": {},
   "outputs": [],
   "source": [
    "x = np.array([1,30]) #it shows x \n",
    "y = np.array([1,10]) # it shows y \n",
    "\n",
    "plt.plot(x ,y )\n",
    "plt.show()"
   ]
  },
  {
   "cell_type": "code",
   "execution_count": null,
   "id": "7e9fbf9a-5823-4f1a-b2b6-fc3e9f5a0848",
   "metadata": {},
   "outputs": [],
   "source": [
    "#MULTIPLE POINTS\n",
    "\n",
    "#Draw a line diagram from position (1,3) tp (2,8) then to (6,1) and final postion (8,10)\n",
    " \n",
    "x = np.array([1,2,6,8])\n",
    "y = np.array([3,8,1,10])\n",
    "\n",
    "plt.plot(x,y)\n",
    "plt.show"
   ]
  },
  {
   "cell_type": "code",
   "execution_count": null,
   "id": "1f9f6d02-53c3-4f58-8c7f-eb325bd8533f",
   "metadata": {},
   "outputs": [],
   "source": [
    "#Matplotlib markaers\n",
    "x = np.array([1,2,6,8])\n",
    "y = np.array([3,8,1,10])\n",
    "\n",
    "plt.plot(x,y, marker= 'o')\n",
    "plt.show()"
   ]
  },
  {
   "cell_type": "code",
   "execution_count": null,
   "id": "5deb5e77-6c54-4418-b2fd-3fb06ec1a430",
   "metadata": {},
   "outputs": [],
   "source": [
    "x = np.array([10, 20, 100])\n",
    "y = np.array([30,90, 80])\n",
    "\n",
    "plt.plot(x,y, 'o:r')\n",
    "plt.show()"
   ]
  },
  {
   "cell_type": "code",
   "execution_count": null,
   "id": "e72a9889-49e1-42cb-8bc6-928849cbc99c",
   "metadata": {},
   "outputs": [],
   "source": [
    "#matplotlib line\n",
    "y = np.array([3,4,5,6])\n",
    "plt.plot(y, linestyle='dotted')\n",
    "plt.show()"
   ]
  },
  {
   "cell_type": "code",
   "execution_count": null,
   "id": "054f078e-75b3-437d-8455-25157b4c21d3",
   "metadata": {},
   "outputs": [],
   "source": [
    "#Line color\n",
    "x = np.array([1,100])\n",
    "y = np.array([12,34,34,54])\n",
    "plt.plot(y, color='red')\n",
    "plt.show()"
   ]
  },
  {
   "cell_type": "code",
   "execution_count": null,
   "id": "e9b59e39-da54-496e-a947-5a11fc7b2c78",
   "metadata": {},
   "outputs": [],
   "source": [
    "#Line width\n",
    "\n",
    "y = np.array([3,8,1,10])\n",
    "\n",
    "plt.plot(y, linewidth='12')\n",
    "plt.show()"
   ]
  },
  {
   "cell_type": "code",
   "execution_count": null,
   "id": "c60c6bf2-0722-401f-a8ac-e257d4f90a72",
   "metadata": {},
   "outputs": [],
   "source": [
    "#Multiple line \n",
    "y1 = np.array([3,8,1,10])\n",
    "y2 = np.array([8,9,4,11])\n",
    "plt.plot(y1,y2,)\n",
    "plt.show()"
   ]
  },
  {
   "cell_type": "code",
   "execution_count": null,
   "id": "480299d7-2ac1-444c-b9dc-2496bb0ffac4",
   "metadata": {},
   "outputs": [],
   "source": [
    "#Matplotlib Labels and Title\n",
    "#Create Labels for a Plot\n",
    "\n",
    "x = np.array([80, 85])\n",
    "y = np.array([240, 250])\n",
    "\n",
    "plt.plot(x, y)\n",
    "\n",
    "\n",
    "plt.title(\"Sport\")\n",
    "plt.xlabel(\"Average Pulse\")\n",
    "plt.ylabel(\"Calorie Burnage\")\n",
    "\n",
    "plt.show()"
   ]
  },
  {
   "cell_type": "code",
   "execution_count": null,
   "id": "4625cc4d-51b7-467e-aa5e-308009fcd52d",
   "metadata": {},
   "outputs": [],
   "source": [
    "x = ([0,1,3,5])\n",
    "y = ([3,5,7,8])\n",
    "\n",
    "plt.subplot(2,1,2)\n",
    "plt.plot(x,y)\n",
    "plt.show()\n",
    "\n",
    "\n",
    "x = ([3,5,7,8])\n",
    "y = ([5,6,7,8])\n",
    "\n",
    "plt.subplot(1,2,2)\n",
    "plt.plot(x,y)\n",
    "plt.show()"
   ]
  },
  {
   "cell_type": "code",
   "execution_count": null,
   "id": "fabbb590-7ba6-4c1e-9ed6-aaf44aeaf2b0",
   "metadata": {},
   "outputs": [],
   "source": [
    "#Matplotlib scatter\n",
    "x = np.array([12,34,56,44])\n",
    "y = np.array([23,64,32,77])\n",
    "\n",
    "plt.scatter(x,y)\n",
    "plt.show()"
   ]
  },
  {
   "cell_type": "code",
   "execution_count": null,
   "id": "077357da-75f7-4f93-93ab-ca3814905fa8",
   "metadata": {},
   "outputs": [],
   "source": [
    "#matplotlib BAR\n",
    "x = np.array([\"A\",\"B\",\"C\",\"D\"])\n",
    "y = np.array([3,5,6,7])\n",
    "\n",
    "plt.bar(x,y)\n",
    "plt.show()\n",
    "\n",
    "#color, width and all thing same as like line chart "
   ]
  },
  {
   "cell_type": "code",
   "execution_count": null,
   "id": "12d5eea0-b9ee-42be-8ed6-6a1bd8006b16",
   "metadata": {},
   "outputs": [],
   "source": [
    "#matplotlib histograms \n",
    "x = np.random.normal(10,30,200)\n",
    "\n",
    "plt.hist(x)\n",
    "plt.show()"
   ]
  },
  {
   "cell_type": "code",
   "execution_count": null,
   "id": "4b36da1f-9ac8-4884-a247-dc877aa84407",
   "metadata": {},
   "outputs": [],
   "source": [
    "y = np.array([28,34,42,24])\n",
    "plt.pie(y)\n",
    "plt.show()"
   ]
  },
  {
   "cell_type": "code",
   "execution_count": null,
   "id": "d6b1689c-9394-4148-8965-1f27317a33c0",
   "metadata": {},
   "outputs": [],
   "source": [
    "y = np.array([170,10,250])\n",
    "mylabels = [\"Apple\",\"banana\",\"cherry\"]\n",
    "\n",
    "plt.pie(y, labels = mylabels)\n",
    "plt.show()"
   ]
  }
 ],
 "metadata": {
  "kernelspec": {
   "display_name": "Python [conda env:base] *",
   "language": "python",
   "name": "conda-base-py"
  },
  "language_info": {
   "codemirror_mode": {
    "name": "ipython",
    "version": 3
   },
   "file_extension": ".py",
   "mimetype": "text/x-python",
   "name": "python",
   "nbconvert_exporter": "python",
   "pygments_lexer": "ipython3",
   "version": "3.12.7"
  }
 },
 "nbformat": 4,
 "nbformat_minor": 5
}
