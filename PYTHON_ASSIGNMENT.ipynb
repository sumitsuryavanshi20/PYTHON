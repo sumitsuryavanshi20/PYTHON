{
  "nbformat": 4,
  "nbformat_minor": 0,
  "metadata": {
    "colab": {
      "provenance": []
    },
    "kernelspec": {
      "name": "python3",
      "display_name": "Python 3"
    },
    "language_info": {
      "name": "python"
    }
  },
  "cells": [
    {
      "cell_type": "code",
      "execution_count": null,
      "metadata": {
        "colab": {
          "base_uri": "https://localhost:8080/"
        },
        "id": "f1vrJra5UpGa",
        "outputId": "88447ad9-6efc-49c7-a590-e7036e974a7f"
      },
      "outputs": [
        {
          "output_type": "stream",
          "name": "stdout",
          "text": [
            "[4, 2, 3, 1]\n"
          ]
        }
      ],
      "source": [
        "#Write a Program to interchange first and last elements in a list.\n",
        "List=[1,2,3,4]\n",
        "List[0], List[-1] = List[-1], List[0]\n",
        "print(List)"
      ]
    },
    {
      "cell_type": "code",
      "source": [
        "#Program to swap two elements in a list\n",
        "List=[2,3]\n",
        "List[0],List[-1] = List[-1], List[0]\n",
        "print(List)"
      ],
      "metadata": {
        "colab": {
          "base_uri": "https://localhost:8080/"
        },
        "id": "7aFqko5xWkfn",
        "outputId": "df6496ef-1f74-4298-b328-5b0975f12b74"
      },
      "execution_count": null,
      "outputs": [
        {
          "output_type": "stream",
          "name": "stdout",
          "text": [
            "[3, 2]\n"
          ]
        }
      ]
    },
    {
      "cell_type": "code",
      "source": [
        "#3. Swap elements in String list\n",
        "List=[\"apple\",\"banana\",\"Kiwi\"]\n",
        "List[0],List[-1] = List[-1], List[0]\n",
        "print(List)"
      ],
      "metadata": {
        "colab": {
          "base_uri": "https://localhost:8080/"
        },
        "id": "8_2N-sh9Xhrp",
        "outputId": "4211618d-8309-4d7d-b5c6-447f35dfe19c"
      },
      "execution_count": null,
      "outputs": [
        {
          "output_type": "stream",
          "name": "stdout",
          "text": [
            "['Kiwi', 'banana', 'apple']\n"
          ]
        }
      ]
    },
    {
      "cell_type": "code",
      "source": [
        "#4. Ways to find length of list\n",
        "List=[\"apple\",\"banana\",\"cherry\"]\n",
        "print(len(List))"
      ],
      "metadata": {
        "colab": {
          "base_uri": "https://localhost:8080/"
        },
        "id": "ZBo6eykkYDE7",
        "outputId": "41491813-77a7-4fb4-b1e5-d8a476683669"
      },
      "execution_count": null,
      "outputs": [
        {
          "output_type": "stream",
          "name": "stdout",
          "text": [
            "3\n"
          ]
        }
      ]
    },
    {
      "cell_type": "code",
      "source": [
        "#5. Maximum of two numbers in Python\n",
        "a=10\n",
        "b=15\n",
        "if a>b:\n",
        "  print(a)\n",
        "else:\n",
        "  print(b)"
      ],
      "metadata": {
        "colab": {
          "base_uri": "https://localhost:8080/"
        },
        "id": "5vb2uZ6rYIqT",
        "outputId": "3065698a-a5b3-49b1-dff3-c972b39bf42e"
      },
      "execution_count": null,
      "outputs": [
        {
          "output_type": "stream",
          "name": "stdout",
          "text": [
            "15\n"
          ]
        }
      ]
    },
    {
      "cell_type": "code",
      "source": [
        "#6. Minimum of two numbers in Python\n",
        "a=10\n",
        "b=15\n",
        "if a<b:\n",
        "  print(a)\n",
        "else:\n",
        "  print(b)"
      ],
      "metadata": {
        "colab": {
          "base_uri": "https://localhost:8080/"
        },
        "id": "Pfhr2NkyYMQx",
        "outputId": "7d5320a4-e5aa-4ddf-c470-7e2a45796f8b"
      },
      "execution_count": null,
      "outputs": [
        {
          "output_type": "stream",
          "name": "stdout",
          "text": [
            "10\n"
          ]
        }
      ]
    },
    {
      "cell_type": "code",
      "source": [
        "#7. Ways to check if element exists in list\n",
        "List=[\"apple\",\"banana\",\"cherry\"]\n",
        "if \"cherry\" in List:\n",
        "  print(\"yes\")\n",
        "else:\n",
        "  print(\"no\")"
      ],
      "metadata": {
        "colab": {
          "base_uri": "https://localhost:8080/"
        },
        "id": "-CCsaFvWYPZR",
        "outputId": "d7802e11-c534-481a-9bfb-1d047eb07784"
      },
      "execution_count": null,
      "outputs": [
        {
          "output_type": "stream",
          "name": "stdout",
          "text": [
            "yes\n"
          ]
        }
      ]
    },
    {
      "cell_type": "code",
      "source": [
        "#8. Different ways to clear a list in Python\n",
        "List=[1,2,3,4,5,6,7,8]\n",
        "List.clear()\n",
        "print(List)"
      ],
      "metadata": {
        "colab": {
          "base_uri": "https://localhost:8080/"
        },
        "id": "mrcTWKlYYUMw",
        "outputId": "908afbed-ed2e-47b7-97bc-711f0396368e"
      },
      "execution_count": null,
      "outputs": [
        {
          "output_type": "stream",
          "name": "stdout",
          "text": [
            "[]\n"
          ]
        }
      ]
    },
    {
      "cell_type": "code",
      "source": [
        "#9. Reversing a List\n",
        "List=[1,2,3,4,5,6,7,8]\n",
        "List.sort(reverse = True)\n",
        "print(List)"
      ],
      "metadata": {
        "colab": {
          "base_uri": "https://localhost:8080/"
        },
        "id": "aDjfopvXYYop",
        "outputId": "cb23711e-e94e-4e9e-b024-7776de5dfe1c"
      },
      "execution_count": null,
      "outputs": [
        {
          "output_type": "stream",
          "name": "stdout",
          "text": [
            "[8, 7, 6, 5, 4, 3, 2, 1]\n"
          ]
        }
      ]
    },
    {
      "cell_type": "code",
      "source": [
        "#10. Cloning or Copying a list\n",
        "List=[1,2,3,4,5]\n",
        "List1 = List.copy()\n",
        "print(List1)"
      ],
      "metadata": {
        "colab": {
          "base_uri": "https://localhost:8080/"
        },
        "id": "g5nEh1emYcqj",
        "outputId": "7c258a5d-e171-47d4-f8ba-2ed96c6473aa"
      },
      "execution_count": null,
      "outputs": [
        {
          "output_type": "stream",
          "name": "stdout",
          "text": [
            "[1, 2, 3, 4, 5]\n"
          ]
        }
      ]
    },
    {
      "cell_type": "code",
      "source": [
        "#Count occurrences of an element in a list\n",
        "List=[1,2,3,4,4,5,5,6,5,]\n",
        "List1=(List.count(5))\n",
        "print(List1)"
      ],
      "metadata": {
        "colab": {
          "base_uri": "https://localhost:8080/"
        },
        "id": "v9MBYpvqgQBU",
        "outputId": "c081ac6b-b6bb-40eb-cf63-e465e7559474"
      },
      "execution_count": null,
      "outputs": [
        {
          "output_type": "stream",
          "name": "stdout",
          "text": [
            "3\n"
          ]
        }
      ]
    },
    {
      "cell_type": "code",
      "source": [
        "#Program to find sum and average of List in Python\n",
        "List=[1,2,3,4,34,54]\n",
        "print(sum(List))\n",
        "print(sum(List)/len(List))"
      ],
      "metadata": {
        "colab": {
          "base_uri": "https://localhost:8080/"
        },
        "id": "D2UNS9CNgUdY",
        "outputId": "ed426bf9-9057-4bcf-ec32-0e5174a96062"
      },
      "execution_count": null,
      "outputs": [
        {
          "output_type": "stream",
          "name": "stdout",
          "text": [
            "98\n",
            "16.333333333333332\n"
          ]
        }
      ]
    },
    {
      "cell_type": "code",
      "source": [
        "#Sum of number digits in List\n",
        "List=[1,2,3,4,5]\n",
        "print(sum(List))"
      ],
      "metadata": {
        "colab": {
          "base_uri": "https://localhost:8080/"
        },
        "id": "x8AU9b7fgXk1",
        "outputId": "85821403-559f-410c-ba2b-7fb2287acfc5"
      },
      "execution_count": null,
      "outputs": [
        {
          "output_type": "stream",
          "name": "stdout",
          "text": [
            "15\n"
          ]
        }
      ]
    },
    {
      "cell_type": "code",
      "source": [
        "#Multiply all numbers in the list\n",
        "x=94*23\n",
        "print(x)"
      ],
      "metadata": {
        "colab": {
          "base_uri": "https://localhost:8080/"
        },
        "id": "otdLIRE2gYoQ",
        "outputId": "9c582c81-0d68-436b-dd85-9d33f9c12dc5"
      },
      "execution_count": null,
      "outputs": [
        {
          "output_type": "stream",
          "name": "stdout",
          "text": [
            "2162\n"
          ]
        }
      ]
    },
    {
      "cell_type": "code",
      "source": [
        "#Program to find smallest number in a list\n",
        "List=[1355,24,243,4353,15,2545]\n",
        "List.sort()\n",
        "print(List[0])"
      ],
      "metadata": {
        "colab": {
          "base_uri": "https://localhost:8080/"
        },
        "id": "FaW-GOjZgdKW",
        "outputId": "7574fa23-17ca-41b5-bce3-ce227fada8f8"
      },
      "execution_count": null,
      "outputs": [
        {
          "output_type": "stream",
          "name": "stdout",
          "text": [
            "15\n"
          ]
        }
      ]
    },
    {
      "cell_type": "code",
      "source": [
        "#Program to find largest number in a list\n",
        "List=[1355,24,243,4353,15,2545]\n",
        "List.sort(reverse = True)\n",
        "print(List[-6])"
      ],
      "metadata": {
        "colab": {
          "base_uri": "https://localhost:8080/"
        },
        "id": "ui9Z_bOfgf5v",
        "outputId": "9a57fc36-ac8e-47ce-85e5-0803afa10d8e"
      },
      "execution_count": null,
      "outputs": [
        {
          "output_type": "stream",
          "name": "stdout",
          "text": [
            "4353\n"
          ]
        }
      ]
    },
    {
      "cell_type": "code",
      "source": [
        "#Program to find second largest number in a list\n",
        "List=[1355,24,243,4353,15,2545]\n",
        "List.sort(reverse = True)\n",
        "print(List[-5])"
      ],
      "metadata": {
        "colab": {
          "base_uri": "https://localhost:8080/"
        },
        "id": "-6D9idrggjva",
        "outputId": "ed1e595b-e69c-4d1e-f64b-67b0ccd4220e"
      },
      "execution_count": null,
      "outputs": [
        {
          "output_type": "stream",
          "name": "stdout",
          "text": [
            "2545\n"
          ]
        }
      ]
    },
    {
      "cell_type": "code",
      "source": [
        "#Program to print even numbers in a list\n",
        "numbers = [1, 2, 3, 4, 5, 6, 7, 8, 9, 10]\n",
        "\n",
        "# Output: Even numbers\n",
        "print(\"Even numbers in the list:\")\n",
        "for num in numbers:\n",
        "    if num % 2 == 0:\n",
        "        print(num)\n"
      ],
      "metadata": {
        "colab": {
          "base_uri": "https://localhost:8080/"
        },
        "id": "4VFfJr6yglGT",
        "outputId": "8e68427a-8b7f-4e97-e4ea-a12b9d588d7b"
      },
      "execution_count": null,
      "outputs": [
        {
          "output_type": "stream",
          "name": "stdout",
          "text": [
            "Even numbers in the list:\n",
            "2\n",
            "4\n",
            "6\n",
            "8\n",
            "10\n"
          ]
        }
      ]
    },
    {
      "cell_type": "code",
      "source": [
        "#Program to print odd numbers in a List\n",
        "mylist=[7,2,3,4,10]\n",
        "for i in mylist:\n",
        "  if i%2!=0:\n",
        "    print(i)"
      ],
      "metadata": {
        "colab": {
          "base_uri": "https://localhost:8080/"
        },
        "id": "AEIy_322g4F3",
        "outputId": "35932ed1-4bdd-43ca-934a-0fe5772c3a80"
      },
      "execution_count": null,
      "outputs": [
        {
          "output_type": "stream",
          "name": "stdout",
          "text": [
            "7\n",
            "3\n"
          ]
        }
      ]
    },
    {
      "cell_type": "code",
      "source": [
        "#Program to print all even numbers in a range"
      ],
      "metadata": {
        "id": "NC15Jf1ag5QP"
      },
      "execution_count": null,
      "outputs": []
    },
    {
      "cell_type": "code",
      "source": [
        "#Program to print all odd numbers in a range\n"
      ],
      "metadata": {
        "id": "Muu0TCG-g9BV"
      },
      "execution_count": null,
      "outputs": []
    },
    {
      "cell_type": "code",
      "source": [
        "#Program to count Even and Odd numbers in a List\n",
        "mylist=[1,2,3,4,5]\n",
        "evencount=0\n",
        "oddcount=0\n",
        "for i in mylist:\n",
        "  if i%2==0:\n",
        "    evencount+=1\n",
        "  else:\n",
        "    oddcount+=1\n",
        "print(\"evencount:\",evencount)\n",
        "print(\"oddcount:\",oddcount)"
      ],
      "metadata": {
        "id": "qBYs9TSihEtG"
      },
      "execution_count": null,
      "outputs": []
    },
    {
      "cell_type": "code",
      "source": [
        "#Program to print positive numbers in a list\n",
        "mylist=[1,-2,3,-4,5]\n",
        "for i in mylist:\n",
        "  if i>-1:\n",
        "    print(i)"
      ],
      "metadata": {
        "id": "H-n2lQTihHIO"
      },
      "execution_count": null,
      "outputs": []
    },
    {
      "cell_type": "code",
      "source": [
        "#Program to print negative numbers in a list\n",
        "mylist=[1,-2,3,-4,5]\n",
        "for i in mylist:\n",
        "  if i<0:\n",
        "    print(i)"
      ],
      "metadata": {
        "id": "kUPo-ye0hITW"
      },
      "execution_count": null,
      "outputs": []
    },
    {
      "cell_type": "code",
      "source": [
        "#Program to print all positive numbers in a range\n",
        "start = int(input(\"Enter the start of the range: \"))\n",
        "end = int(input(\"Enter the end of the range: \"))\n",
        "print(\"Positive numbers in the range:\")\n",
        "for number in range(start,end+1):\n",
        "   if number>0:\n",
        "      print(number)"
      ],
      "metadata": {
        "id": "hvk36Bi6hKqY"
      },
      "execution_count": null,
      "outputs": []
    },
    {
      "cell_type": "code",
      "source": [
        "#Program to print all negative numbers in a range\n",
        "start = int(input(\"Enter the start of the range: \"))\n",
        "end = int(input(\"Enter the end of the range: \"))\n",
        "print(\"Positive numbers in the range:\")\n",
        "for number in range(start,end+1):\n",
        "  if number<0:\n",
        "    print(number)"
      ],
      "metadata": {
        "id": "8X53CME-hMrs"
      },
      "execution_count": null,
      "outputs": []
    },
    {
      "cell_type": "code",
      "source": [
        "#Program to count positive and negative numbers in a list\n",
        "Mylist=[1,-2,3,-4,5]\n",
        "Positive=0\n",
        "Negative=0\n",
        "for i in Mylist:\n",
        "  if i>-1:\n",
        "   Positive+=1\n",
        "  else:\n",
        "   Negative+=1\n",
        "print(\"Positive:\", Positive)\n",
        "print(\"Negative:\", Negative)"
      ],
      "metadata": {
        "id": "9bpXhTxchOnH",
        "colab": {
          "base_uri": "https://localhost:8080/"
        },
        "outputId": "b0f74d3e-2a7f-4951-aac2-cbfabcdb8438"
      },
      "execution_count": null,
      "outputs": [
        {
          "output_type": "stream",
          "name": "stdout",
          "text": [
            "Positive: 3\n",
            "Negative: 2\n"
          ]
        }
      ]
    },
    {
      "cell_type": "code",
      "source": [
        "#Remove multiple elements from a list in Python\n",
        "Mylist=[1,2,3,4,5]\n",
        "RemoveElements=[2,4]\n",
        "for i in RemoveElements:\n",
        "  if i in Mylist:\n",
        "    Mylist.remove(i)\n",
        "print(Mylist)"
      ],
      "metadata": {
        "id": "AKPLOWCDhQzw",
        "colab": {
          "base_uri": "https://localhost:8080/"
        },
        "outputId": "a377d822-48ef-4f90-b56a-4067c9ad6f09"
      },
      "execution_count": null,
      "outputs": [
        {
          "output_type": "stream",
          "name": "stdout",
          "text": [
            "[1, 3, 5]\n"
          ]
        }
      ]
    },
    {
      "cell_type": "code",
      "source": [
        "#Remove empty tuples from a list\n",
        "original_list = [(1, 2),(),(3, 4)]\n",
        "filtered_list = [tup for tup in original_list if tup]\n",
        "print(filtered_list)"
      ],
      "metadata": {
        "id": "jc4boB6xhSqi",
        "colab": {
          "base_uri": "https://localhost:8080/"
        },
        "outputId": "f57ce138-5c30-4b73-cf37-9b0133c02ce1"
      },
      "execution_count": null,
      "outputs": [
        {
          "output_type": "stream",
          "name": "stdout",
          "text": [
            "[(1, 2), (3, 4)]\n"
          ]
        }
      ]
    },
    {
      "cell_type": "code",
      "source": [
        "#Program to print duplicates from a list of integers\n",
        "Mylist = [1,2,2,3,3,4,5]\n",
        "duplicates = []\n",
        "\n",
        "for i in Mylist:\n",
        "    if Mylist.count(i) > 1 and i not in duplicates:\n",
        "        duplicates.append(i)\n",
        "\n",
        "# Print the duplicates\n",
        "for duplicate in duplicates:\n",
        "    print(duplicate)"
      ],
      "metadata": {
        "id": "yUYvW2vnhXbI",
        "colab": {
          "base_uri": "https://localhost:8080/"
        },
        "outputId": "10632b17-ef6b-4809-d1bb-2d0d2a15c961"
      },
      "execution_count": null,
      "outputs": [
        {
          "output_type": "stream",
          "name": "stdout",
          "text": [
            "2\n",
            "3\n"
          ]
        }
      ]
    }
  ]
}