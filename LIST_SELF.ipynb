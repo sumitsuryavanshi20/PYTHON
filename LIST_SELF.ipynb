{
  "nbformat": 4,
  "nbformat_minor": 0,
  "metadata": {
    "colab": {
      "provenance": []
    },
    "kernelspec": {
      "name": "python3",
      "display_name": "Python 3"
    },
    "language_info": {
      "name": "python"
    }
  },
  "cells": [
    {
      "cell_type": "code",
      "execution_count": null,
      "metadata": {
        "colab": {
          "base_uri": "https://localhost:8080/"
        },
        "id": "dVun5zS3T_2J",
        "outputId": "e7b2de9e-be0c-4515-913c-c85b79215186"
      },
      "outputs": [
        {
          "output_type": "stream",
          "name": "stdout",
          "text": [
            "Hello world\n"
          ]
        }
      ],
      "source": [
        "print(\"Hello world\")"
      ]
    },
    {
      "cell_type": "code",
      "source": [
        "List = [\"apple\",\"cherry\",\"banana\"]\n",
        "print(List)"
      ],
      "metadata": {
        "colab": {
          "base_uri": "https://localhost:8080/"
        },
        "id": "QnkpMP9eUQ7w",
        "outputId": "a6e41d41-355b-48e4-f5ea-ce61d8b137cd"
      },
      "execution_count": null,
      "outputs": [
        {
          "output_type": "stream",
          "name": "stdout",
          "text": [
            "['apple', 'cherry', 'banana']\n"
          ]
        }
      ]
    },
    {
      "cell_type": "code",
      "source": [
        "List = [1,2,3,4,5,6]\n",
        "print(List)"
      ],
      "metadata": {
        "colab": {
          "base_uri": "https://localhost:8080/"
        },
        "id": "JGWB6qvyUbEZ",
        "outputId": "1024ea62-22f9-4187-a089-77f650b3c0a1"
      },
      "execution_count": null,
      "outputs": [
        {
          "output_type": "stream",
          "name": "stdout",
          "text": [
            "[1, 2, 3, 4, 5, 6]\n"
          ]
        }
      ]
    },
    {
      "cell_type": "code",
      "source": [
        "#Read theory from notebook\n",
        "#List items\n",
        "#ordered\n",
        "#Changeable\n",
        "#Allow duplicates"
      ],
      "metadata": {
        "id": "w3DjmfhmU_yI"
      },
      "execution_count": null,
      "outputs": []
    },
    {
      "cell_type": "code",
      "source": [
        "#Example List Allow Duplicates Values:\n",
        "List = [\"apple\",\"apple\",\"cherry\",\"banana\"]\n",
        "print(List)"
      ],
      "metadata": {
        "colab": {
          "base_uri": "https://localhost:8080/"
        },
        "id": "ad_N3R26VEV8",
        "outputId": "574653db-adc6-4055-d5c5-5284e0a4b0a4"
      },
      "execution_count": null,
      "outputs": [
        {
          "output_type": "stream",
          "name": "stdout",
          "text": [
            "['apple', 'apple', 'cherry', 'banana']\n"
          ]
        }
      ]
    },
    {
      "cell_type": "code",
      "source": [
        "#List length\n",
        "#len()\n",
        "List = [\"apple\",\"apple\",\"cherry\",\"banana\"]\n",
        "print(len(List))\n",
        "\n",
        "List = [\"Sumit\", \"Anoop\",\"Chandan\",\"Op\",\"kaku\"]\n",
        "print(len(List))"
      ],
      "metadata": {
        "colab": {
          "base_uri": "https://localhost:8080/"
        },
        "id": "DDhJYSMxVQqy",
        "outputId": "a22160aa-12f1-443f-a6fa-92e65367d782"
      },
      "execution_count": null,
      "outputs": [
        {
          "output_type": "stream",
          "name": "stdout",
          "text": [
            "4\n",
            "5\n"
          ]
        }
      ]
    },
    {
      "cell_type": "code",
      "source": [
        "#List can contains different types of data type in single variable.\n",
        "List1 = [\"sumit\",1,True]\n",
        "print(List1)\n",
        "\n",
        "List = [\"Sumit\",2.0,3j,True,2]\n",
        "print(List)"
      ],
      "metadata": {
        "colab": {
          "base_uri": "https://localhost:8080/"
        },
        "id": "R7Mlr6rPVa9R",
        "outputId": "2295f93f-c6ac-49c1-e8e4-139004923b94"
      },
      "execution_count": null,
      "outputs": [
        {
          "output_type": "stream",
          "name": "stdout",
          "text": [
            "['sumit', 1, True]\n",
            "['Sumit', 2.0, 3j, True, 2]\n"
          ]
        }
      ]
    },
    {
      "cell_type": "code",
      "source": [
        "#type()\n",
        "List = [\"Sumit\",\"Koki\",\"mayank\"]\n",
        "print(type(List))\n",
        "List1 = (1,23,4,56)\n",
        "print(type(List1))\n",
        "\n",
        "List2 =[\"p\"]\n",
        "List3 =(3)\n",
        "List4 ={2.4}\n",
        "print(type(List2))\n",
        "print(type(List3))\n",
        "print(type(List4))\n"
      ],
      "metadata": {
        "colab": {
          "base_uri": "https://localhost:8080/"
        },
        "id": "rGDP0FKIV3l0",
        "outputId": "4a994200-5fa1-4bdf-ca78-9e80a32df462"
      },
      "execution_count": null,
      "outputs": [
        {
          "output_type": "stream",
          "name": "stdout",
          "text": [
            "<class 'list'>\n",
            "<class 'tuple'>\n",
            "<class 'list'>\n",
            "<class 'int'>\n",
            "<class 'set'>\n"
          ]
        }
      ]
    },
    {
      "cell_type": "code",
      "source": [
        "#List constructor\n",
        "List = [1,2,4,5,]\n",
        "tuple = tuple(List)\n",
        "print(tuple)\n",
        "\n",
        "Tuple = (3,3,2,2)\n",
        "list = list(Tuple)\n",
        "print(list)"
      ],
      "metadata": {
        "colab": {
          "base_uri": "https://localhost:8080/"
        },
        "id": "pKlkTR4IWikX",
        "outputId": "4eb02833-a190-42cc-debe-9a66df6cf3b8"
      },
      "execution_count": null,
      "outputs": [
        {
          "output_type": "stream",
          "name": "stdout",
          "text": [
            "(1, 2, 4, 5)\n",
            "[3, 3, 2, 2]\n"
          ]
        }
      ]
    },
    {
      "cell_type": "code",
      "source": [
        "#Access items\n",
        "thislist = [\"apple\",\"banana\",\"cherry\"]\n",
        "print(thislist[1])\n",
        "\n",
        "List = [\"Sumit\",\"kaku\",\"Ajay\"]\n",
        "print(List[0])"
      ],
      "metadata": {
        "colab": {
          "base_uri": "https://localhost:8080/"
        },
        "id": "xdc3o2xcW56O",
        "outputId": "ee5e08b7-98f0-4ada-95b9-b51530d394bb"
      },
      "execution_count": null,
      "outputs": [
        {
          "output_type": "stream",
          "name": "stdout",
          "text": [
            "banana\n",
            "Sumit\n"
          ]
        }
      ]
    },
    {
      "cell_type": "code",
      "source": [
        "#Negative indexing\n",
        "List = [\"apple\",\"banana\",\"cherry\"]\n",
        "print(thislist[-1])"
      ],
      "metadata": {
        "colab": {
          "base_uri": "https://localhost:8080/"
        },
        "id": "YkkOhZYiW8sp",
        "outputId": "7e20dcde-2c5b-4811-c50e-416265338d70"
      },
      "execution_count": null,
      "outputs": [
        {
          "output_type": "stream",
          "name": "stdout",
          "text": [
            "cherry\n"
          ]
        }
      ]
    },
    {
      "cell_type": "code",
      "source": [
        "#Range of indexes\n",
        "#return the second third or fourth value\n",
        "List = [\"apple\",\"cherry\",\"kiwi\",\"banana\",\"mango\",\"orange\"]\n",
        "print(List[1:4])"
      ],
      "metadata": {
        "colab": {
          "base_uri": "https://localhost:8080/"
        },
        "id": "F5m7vDYhW_fy",
        "outputId": "6e19585e-a791-4660-853f-7bdddc285066"
      },
      "execution_count": null,
      "outputs": [
        {
          "output_type": "stream",
          "name": "stdout",
          "text": [
            "['cherry', 'kiwi', 'banana']\n"
          ]
        }
      ]
    },
    {
      "cell_type": "code",
      "source": [
        "#Example :item from begining to but not include melon\n",
        "List = [\"apple\",\"banana\",\"cherry\",\"kiwi\",\"melon\",\"mango\"]\n",
        "print(List[:4])"
      ],
      "metadata": {
        "colab": {
          "base_uri": "https://localhost:8080/"
        },
        "id": "9ggCQtiVXDIT",
        "outputId": "d5cefd68-d0b9-47b3-a82c-bf334d0b8c5f"
      },
      "execution_count": null,
      "outputs": [
        {
          "output_type": "stream",
          "name": "stdout",
          "text": [
            "['apple', 'banana', 'cherry', 'kiwi']\n"
          ]
        }
      ]
    },
    {
      "cell_type": "code",
      "source": [
        "#This example returns the items from \"cherry\" to the end:\n",
        "\n",
        "thislist = [\"apple\", \"banana\", \"cherry\", \"orange\", \"kiwi\", \"melon\", \"mango\"]\n",
        "print(thislist[2:])"
      ],
      "metadata": {
        "colab": {
          "base_uri": "https://localhost:8080/"
        },
        "id": "weEJNUQKXJI4",
        "outputId": "8c1e6aa4-fd88-48ba-e8a2-4ad5e147f774"
      },
      "execution_count": null,
      "outputs": [
        {
          "output_type": "stream",
          "name": "stdout",
          "text": [
            "['cherry', 'orange', 'kiwi', 'melon', 'mango']\n"
          ]
        }
      ]
    },
    {
      "cell_type": "code",
      "source": [
        "List = [\"apple\",\"kiwi\",\"orange\",\"kiwi\"]\n",
        "print(List[2:])"
      ],
      "metadata": {
        "colab": {
          "base_uri": "https://localhost:8080/"
        },
        "id": "rOviAcvZXMTA",
        "outputId": "5cd81c3a-06b2-4222-e930-697747851954"
      },
      "execution_count": null,
      "outputs": [
        {
          "output_type": "stream",
          "name": "stdout",
          "text": [
            "['orange', 'kiwi']\n"
          ]
        }
      ]
    },
    {
      "cell_type": "code",
      "source": [
        "#Range of Negative Indexes\n",
        "#Specify negative indexes if you want to start the search from the end of the list:\n",
        "List = [\"apple\",\"banana\",\"cherry\",\"kiwi\",\"orange\",\"mango\"]\n",
        "print(List[-0:-1])"
      ],
      "metadata": {
        "colab": {
          "base_uri": "https://localhost:8080/"
        },
        "id": "UqiSE74rXO3Q",
        "outputId": "35c92ba8-9a1d-4114-c4ff-d2101f4e6b5c"
      },
      "execution_count": null,
      "outputs": [
        {
          "output_type": "stream",
          "name": "stdout",
          "text": [
            "['apple', 'banana', 'cherry', 'kiwi', 'orange']\n"
          ]
        }
      ]
    },
    {
      "cell_type": "code",
      "source": [
        "#Check if Item Exists\n",
        "#To determine if a specified item is present in a list use the in keyword:\n",
        "\n",
        "#Example : check if apple exist in list :\n",
        "List = [\"apple\",\"kiwi\",\"orange\",\"mango\",\"banana\",\"tomato\"]\n",
        "if \"banana\" in List:\n",
        "  print(\"yes,'banana' is in the fruit List\")\n",
        "\n",
        "List = [\"Mango\",\"papaya\",\"cherry\",\"Kiwi\"]\n",
        "if \"apple\" in List:\n",
        "  print(\"yes\")\n",
        "else:\n",
        "  print(\"No\")"
      ],
      "metadata": {
        "colab": {
          "base_uri": "https://localhost:8080/"
        },
        "id": "8rgXF0c0XSft",
        "outputId": "e35b1346-c718-409a-c607-be7084f5eff2"
      },
      "execution_count": null,
      "outputs": [
        {
          "output_type": "stream",
          "name": "stdout",
          "text": [
            "yes,'banana' is in the fruit List\n",
            "No\n"
          ]
        }
      ]
    },
    {
      "cell_type": "code",
      "source": [
        "#change itme value\n",
        "#change the second value\n",
        "List = [\"Black\",\"White\",\"Yellow\",\"Red\"]\n",
        "List[3]=\"Pink\"\n",
        "print(List)\n",
        "\n",
        "List = [\"data\",\"Enginer\",\"analysis\"]\n",
        "List[0] = \"Science\"\n",
        "print(List)\n",
        "\n",
        "List = [\"Git Hub\",\"Linkedin\",\"Profile\"]\n",
        "List[2] = \"Github\"\n",
        "print(List)"
      ],
      "metadata": {
        "colab": {
          "base_uri": "https://localhost:8080/"
        },
        "id": "w6_ZB63cXzpx",
        "outputId": "00991168-289a-41bd-b0dd-4b0c1c19d48d"
      },
      "execution_count": null,
      "outputs": [
        {
          "output_type": "stream",
          "name": "stdout",
          "text": [
            "['Black', 'White', 'Yellow', 'Pink']\n",
            "['Science', 'Enginer', 'analysis']\n",
            "['Git Hub', 'Linkedin', 'Github']\n"
          ]
        }
      ]
    },
    {
      "cell_type": "code",
      "source": [
        "#Change a Range of Item Values\n",
        "#Example\n",
        "#Change the values \"banana\" and \"cherry\" with the values \"blackcurrant\" and \"watermelon\":\n",
        "List = [\"apple\",\"banana\",\"cherry\",\"kiwi\"]\n",
        "List[0:1] = [\"papaya\",\"cherry\"]\n",
        "print(List)\n",
        "\n",
        "List = [\"apple\",\"banana\",\"Kiwi\",\"Mango\"]\n",
        "List[0:1] = [\"orange\",\"papaya\"]\n",
        "print(List)"
      ],
      "metadata": {
        "colab": {
          "base_uri": "https://localhost:8080/"
        },
        "id": "Pjvl_fkWYRM6",
        "outputId": "0c4dc6f1-b250-4c88-eeb6-88596e1c2bfc"
      },
      "execution_count": null,
      "outputs": [
        {
          "output_type": "stream",
          "name": "stdout",
          "text": [
            "['papaya', 'cherry', 'banana', 'cherry', 'kiwi']\n",
            "['orange', 'papaya', 'banana', 'Kiwi', 'Mango']\n"
          ]
        }
      ]
    },
    {
      "cell_type": "code",
      "source": [
        "#Insert Items\n",
        "#The insert() method inserts an item at the specified index:\n",
        "#Insert \"watermelon\" as the third item:\n",
        "List = [\"apple\",\"kiwi\",\"banana\",\"cherry\"]\n",
        "List.insert(0, \"mango\")\n",
        "print(List)\n",
        "\n",
        "List = [\"apple\",\"Kiwi\",\"cherry\"]\n",
        "List.insert(2,\"Watermelon\")\n",
        "print(List)\n",
        "\n",
        "List = [\"apple\",\"Kiwi\",\"Cherry\"]\n",
        "List.insert(3,\"Water melon\")\n",
        "print(List)"
      ],
      "metadata": {
        "colab": {
          "base_uri": "https://localhost:8080/"
        },
        "id": "g25_wMZgYoVJ",
        "outputId": "fefb0780-45ba-4e76-e4c2-077c966999fe"
      },
      "execution_count": null,
      "outputs": [
        {
          "output_type": "stream",
          "name": "stdout",
          "text": [
            "['mango', 'apple', 'kiwi', 'banana', 'cherry']\n",
            "['apple', 'Kiwi', 'Watermelon', 'cherry']\n",
            "['apple', 'Kiwi', 'Cherry', 'Water melon']\n"
          ]
        }
      ]
    },
    {
      "cell_type": "code",
      "source": [
        "#Append Items\n",
        "#To add an item to the end of the list, use the append() method:\n",
        "#Example\n",
        "#Using the append() method to append an item:\n",
        "List = [\"apple\",\"Kiwi\",\"cherry\"]\n",
        "List.append(\"avocado\")\n",
        "print(List)\n",
        "\n",
        "List = [\"apple\",\"cherry\"]\n",
        "List.append(\"Kiwi\")\n",
        "print(List)"
      ],
      "metadata": {
        "colab": {
          "base_uri": "https://localhost:8080/"
        },
        "id": "IVnROPO6ZBmc",
        "outputId": "552c3e89-e899-450a-fcb4-ad2cfab177b3"
      },
      "execution_count": null,
      "outputs": [
        {
          "output_type": "stream",
          "name": "stdout",
          "text": [
            "['apple', 'Kiwi', 'cherry', 'avocado']\n",
            "['apple', 'cherry', 'Kiwi']\n"
          ]
        }
      ]
    },
    {
      "cell_type": "code",
      "source": [
        "#Extend List\n",
        "#To append elements from another list to the current list, use the extend() method.\n",
        "#Add the elements of tropical to thislist:\n",
        "List = [\"apple\",\"banana\",\"cherry\"]\n",
        "People = [1,2,4,5]\n",
        "List.extend(People)\n",
        "print(List)\n",
        "\n",
        "List = [1,2,3,34]\n",
        "List1 =[\"one\",\"Two\",\"Three\"]\n",
        "List.extend(List1)\n",
        "print(List)"
      ],
      "metadata": {
        "colab": {
          "base_uri": "https://localhost:8080/"
        },
        "id": "v79gVz0DZQsM",
        "outputId": "b99293d9-3ff9-4bc3-805e-9e512c11b7a5"
      },
      "execution_count": null,
      "outputs": [
        {
          "output_type": "stream",
          "name": "stdout",
          "text": [
            "['apple', 'banana', 'cherry', 1, 2, 4, 5]\n",
            "[1, 2, 3, 34, 'one', 'Two', 'Three']\n"
          ]
        }
      ]
    },
    {
      "cell_type": "code",
      "source": [
        "#Add Any Iterable\n",
        "#Add elements of a tuple to a list\n",
        "List = [\"apple\",\"kiwi\",\"orange\"]\n",
        "tuple = (\"kiwi\",\"banana\")\n",
        "List.extend(tuple)\n",
        "print(List)"
      ],
      "metadata": {
        "colab": {
          "base_uri": "https://localhost:8080/"
        },
        "id": "IF2wlxILZikg",
        "outputId": "80c02880-5995-44bb-9915-7509abd82a15"
      },
      "execution_count": null,
      "outputs": [
        {
          "output_type": "stream",
          "name": "stdout",
          "text": [
            "['apple', 'kiwi', 'orange', 'kiwi', 'banana']\n"
          ]
        }
      ]
    },
    {
      "cell_type": "code",
      "source": [
        "#Python - Remove List Items\n",
        "#Remove Specified Item\n",
        "#The remove() method removes the specified item.\n",
        "\n",
        "#Example\n",
        "#Remove \"banana\":"
      ],
      "metadata": {
        "id": "sAEwUrywZ8hF"
      },
      "execution_count": null,
      "outputs": []
    },
    {
      "cell_type": "code",
      "source": [
        "List = [\"apple\",\"banana\",\"cherry\"]\n",
        "List.remove(\"cherry\")\n",
        "print(List)\n",
        "\n",
        "List = [\"apple\",\"cherry\",\"Kiwi\"]\n",
        "List.remove(\"cherry\")\n",
        "print(List)"
      ],
      "metadata": {
        "colab": {
          "base_uri": "https://localhost:8080/"
        },
        "id": "QEEchgEeZ9sh",
        "outputId": "8639bea5-4e1e-49dc-e42c-c548d104659a"
      },
      "execution_count": null,
      "outputs": [
        {
          "output_type": "stream",
          "name": "stdout",
          "text": [
            "['apple', 'banana']\n",
            "['apple', 'Kiwi']\n"
          ]
        }
      ]
    },
    {
      "cell_type": "code",
      "source": [
        "#Remove Specified Index\n",
        "#The pop() method removes the specified index.\n",
        "List = [\"apple\",\"banana\",\"cherry\",\"Avocado\"]\n",
        "List.pop(2)\n",
        "print(List)\n",
        "\n",
        "List = [\"avocado\",\"cherry\",\"papaya\"]\n",
        "List.pop(0)\n",
        "print(List)"
      ],
      "metadata": {
        "colab": {
          "base_uri": "https://localhost:8080/"
        },
        "id": "qqGWI2hEaZb3",
        "outputId": "00ebc738-561b-461b-9821-31735120714c"
      },
      "execution_count": null,
      "outputs": [
        {
          "output_type": "stream",
          "name": "stdout",
          "text": [
            "['apple', 'banana', 'Avocado']\n",
            "['cherry', 'papaya']\n"
          ]
        }
      ]
    },
    {
      "cell_type": "code",
      "source": [
        "#if you leave blank it will remvoe last item\n",
        "List = [\"APPLE\",\"CHERRY\",\"KIWI\"]\n",
        "List.pop()\n",
        "print(List)"
      ],
      "metadata": {
        "colab": {
          "base_uri": "https://localhost:8080/"
        },
        "id": "Cral20Dhapji",
        "outputId": "95133445-1a75-4301-d25e-dda9bbef9cd3"
      },
      "execution_count": null,
      "outputs": [
        {
          "output_type": "stream",
          "name": "stdout",
          "text": [
            "['APPLE', 'CHERRY']\n"
          ]
        }
      ]
    },
    {
      "cell_type": "code",
      "source": [
        "#The del keyword also removes the specified index:\n",
        "\n",
        "#Example\n",
        "#Remove the first item:\n",
        "\n",
        "List = [\"apple\", \"banana\", \"cherry\"]\n",
        "del List[0]\n",
        "print(List)"
      ],
      "metadata": {
        "colab": {
          "base_uri": "https://localhost:8080/"
        },
        "id": "W3uBeTfebbYM",
        "outputId": "dc09cda7-d2ca-4fc2-ba07-13f52307b43b"
      },
      "execution_count": null,
      "outputs": [
        {
          "output_type": "stream",
          "name": "stdout",
          "text": [
            "['banana', 'cherry']\n"
          ]
        }
      ]
    },
    {
      "cell_type": "code",
      "source": [
        "#Clear the List\n",
        "#The clear() method empties the list.\n",
        "\n",
        "#The list still remains, but it has no content.\n",
        "\n",
        "#Example\n",
        "#Clear the list content:\n",
        "thislist = [\"apple\", \"banana\", \"cherry\"]\n",
        "thislist.clear()\n",
        "print(thislist)\n",
        "\n",
        "List = [\"apple\",\"cherry\"]\n",
        "List.clear()\n",
        "print(List)"
      ],
      "metadata": {
        "colab": {
          "base_uri": "https://localhost:8080/"
        },
        "id": "fXAelT0CbtOE",
        "outputId": "4b67c85e-d41f-4ab6-e090-b09f38ecd884"
      },
      "execution_count": null,
      "outputs": [
        {
          "output_type": "stream",
          "name": "stdout",
          "text": [
            "[]\n",
            "[]\n"
          ]
        }
      ]
    },
    {
      "cell_type": "code",
      "source": [
        "#Python - Loop Lists\n",
        "#Loop Through a List\n",
        "#You can loop through the list items by using a for loop:\n",
        "#Print all items in the list, one by one.\n",
        "List = [\"apple\",\"Kiwi\"]\n",
        "for x in List:\n",
        "  print(x)\n",
        "\n",
        "List = [1,2,3,4,6]\n",
        "for x in List:\n",
        "  print(x)\n",
        "\n",
        "List = [\"Army\",\"Police\",\"Nda\"]\n",
        "for x in List:\n",
        "  print(x)"
      ],
      "metadata": {
        "colab": {
          "base_uri": "https://localhost:8080/"
        },
        "id": "Y4kutPXffPa8",
        "outputId": "31369713-5c32-438f-dc68-f61465e55ad1"
      },
      "execution_count": null,
      "outputs": [
        {
          "output_type": "stream",
          "name": "stdout",
          "text": [
            "apple\n",
            "Kiwi\n",
            "1\n",
            "2\n",
            "3\n",
            "4\n",
            "6\n",
            "Army\n",
            "Police\n",
            "Nda\n"
          ]
        }
      ]
    },
    {
      "cell_type": "code",
      "source": [
        "#Using a While Loop\n",
        "#Use the len() function to determine the length of the list, then start at 0 and loop your way through the list items by referring to their indexes.\n",
        "\n",
        "#Example\n",
        "#Print all items, using a while loop to go through all the index numbers\n",
        "List = [\"apple\",\"kiwi\",\"cherry\"]\n",
        "o = 2\n",
        "while o < len(List):\n",
        "  print(List[o])\n",
        "  o = o + 1\n",
        "\n",
        "List = [1,2,3,4,5,6,78]\n",
        "x = 6\n",
        "while x < len(List):\n",
        "  print(List1[x])\n",
        "  x = x + 1"
      ],
      "metadata": {
        "colab": {
          "base_uri": "https://localhost:8080/"
        },
        "id": "JtLe9A_ogXNk",
        "outputId": "9d6ab879-fb36-4ce5-eeef-a9283b8fcec0"
      },
      "execution_count": null,
      "outputs": [
        {
          "output_type": "stream",
          "name": "stdout",
          "text": [
            "cherry\n",
            "78\n"
          ]
        }
      ]
    },
    {
      "cell_type": "code",
      "source": [
        "#Looping Using List Comprehension\n",
        "#List Comprehension offers the shortest syntax for looping through lists:\n",
        "\n",
        "#A short hand for loop that will print all items in a list:\n",
        "\n",
        "thislist = [\"apple\", \"banana\", \"cherry\"]\n",
        "[print(x) for x in thislist]"
      ],
      "metadata": {
        "id": "qOi1WOmbg4rb",
        "colab": {
          "base_uri": "https://localhost:8080/"
        },
        "outputId": "94db6a6d-142d-40e5-8e87-12eeaff52b4b"
      },
      "execution_count": null,
      "outputs": [
        {
          "output_type": "stream",
          "name": "stdout",
          "text": [
            "apple\n",
            "banana\n",
            "cherry\n"
          ]
        },
        {
          "output_type": "execute_result",
          "data": {
            "text/plain": [
              "[None, None, None]"
            ]
          },
          "metadata": {},
          "execution_count": 7
        }
      ]
    },
    {
      "cell_type": "code",
      "source": [
        "#List comprehension\n",
        "Juice = [\"banana shake\", \"mango shake\", \"Orange Juice\"]\n",
        "List = []\n",
        "\n",
        "for x in Juice:\n",
        "  if \"s\" in x:\n",
        "    List.append(x)\n",
        "print(List)\n",
        "\n",
        "#essay method\n",
        "#With list comprehension you can do all that with only one line of code:\n",
        "fruits = [\"apple\", \"banana\", \"cherry\", \"kiwi\", \"mango\"]\n",
        "\n",
        "newlist = [x for x in fruits if \"a\" in x]\n",
        "\n",
        "print(newlist)"
      ],
      "metadata": {
        "colab": {
          "base_uri": "https://localhost:8080/"
        },
        "id": "17OQtEEWg6xe",
        "outputId": "949e1aca-e717-4506-94fc-952d0331da21"
      },
      "execution_count": null,
      "outputs": [
        {
          "output_type": "stream",
          "name": "stdout",
          "text": [
            "['banana shake', 'mango shake']\n",
            "['apple', 'banana', 'mango']\n"
          ]
        }
      ]
    },
    {
      "cell_type": "code",
      "source": [
        "#newlist = [expression for item in iterable if condition == True]"
      ],
      "metadata": {
        "id": "nV_3lyO3h3qX"
      },
      "execution_count": null,
      "outputs": []
    },
    {
      "cell_type": "code",
      "source": [
        "newlist = [x for x in range(10) if x < 5 ]\n",
        "print(newlist)"
      ],
      "metadata": {
        "colab": {
          "base_uri": "https://localhost:8080/"
        },
        "id": "lkDxbcwvhnJz",
        "outputId": "292fb917-3242-4fbd-9a69-4c03e1853265"
      },
      "execution_count": null,
      "outputs": [
        {
          "output_type": "stream",
          "name": "stdout",
          "text": [
            "[0, 1, 2, 3, 4]\n"
          ]
        }
      ]
    },
    {
      "cell_type": "code",
      "source": [
        "#You can use the range() function to create an iterable:\n",
        "\n",
        "newlist = [x for x in range(10)]\n",
        "print(newlist)"
      ],
      "metadata": {
        "colab": {
          "base_uri": "https://localhost:8080/"
        },
        "id": "2A8TkanVh-8B",
        "outputId": "c6fef62b-4860-4ffe-bed8-3a7d91b26a5f"
      },
      "execution_count": null,
      "outputs": [
        {
          "output_type": "stream",
          "name": "stdout",
          "text": [
            "[0, 1, 2, 3, 4, 5, 6, 7, 8, 9]\n"
          ]
        }
      ]
    },
    {
      "cell_type": "code",
      "source": [
        "#Only accept items that are not \"apple\":\n",
        "\n",
        "newlist = [x for x in fruits if x != \"apple\"]\n",
        "print(newlist)"
      ],
      "metadata": {
        "id": "3nrT9TU1iE61"
      },
      "execution_count": null,
      "outputs": []
    },
    {
      "cell_type": "code",
      "source": [
        "#Set the values in the new list to upper case:\n",
        "\n",
        "newlist = [x.upper() for x in fruits]\n",
        "print(newlist)"
      ],
      "metadata": {
        "id": "aYktBqaaiVlc"
      },
      "execution_count": null,
      "outputs": []
    },
    {
      "cell_type": "code",
      "source": [
        "#Set all values in the new list to 'hello':\n",
        "\n",
        "newlist = ['hello' for x in fruits]\n",
        "print(newlist)"
      ],
      "metadata": {
        "id": "jFO5FTiRiXOG"
      },
      "execution_count": null,
      "outputs": []
    },
    {
      "cell_type": "code",
      "source": [
        "#Return \"orange\" instead of \"banana\":\n",
        "\n",
        "newlist = [x if x != \"banana\" else \"orange\" for x in fruits]\n",
        "print(newlist)"
      ],
      "metadata": {
        "id": "TpIyhD_NibzQ"
      },
      "execution_count": null,
      "outputs": []
    },
    {
      "cell_type": "code",
      "source": [
        "#Python - Sort Lists\n",
        "#List objects have a sort() method that will sort the list alphanumerically, ascending, by default:\n",
        "\n",
        "#Example\n",
        "#Sort the list alphabetically:\n",
        "\n",
        "List = [\"apple\",\"orange\",\"kiwi\",\"pineapple\",\"banana\"]\n",
        "List.sort()\n",
        "print(List)\n",
        "\n",
        "List = [2,5,5,63,3,4,5,3]\n",
        "List.sort()\n",
        "print(List)"
      ],
      "metadata": {
        "colab": {
          "base_uri": "https://localhost:8080/"
        },
        "id": "OIFtz4lgieuy",
        "outputId": "9b9cfb36-44b0-496b-b648-12ac7ec895a6"
      },
      "execution_count": null,
      "outputs": [
        {
          "output_type": "stream",
          "name": "stdout",
          "text": [
            "['apple', 'banana', 'kiwi', 'orange', 'pineapple']\n",
            "[2, 3, 3, 4, 5, 5, 5, 63]\n"
          ]
        }
      ]
    },
    {
      "cell_type": "code",
      "source": [
        "#Sort Descending\n",
        "#To sort descending, use the keyword argument reverse = True:\n",
        "\n",
        "#Example\n",
        "#Sort the list descending:\n",
        "\n",
        "thislist = [\"orange\", \"mango\", \"kiwi\", \"pineapple\", \"banana\"]\n",
        "thislist.sort(reverse = True)\n",
        "print(thislist)\n",
        "\n",
        "List = [1000,34,343,432]\n",
        "List.sort(reverse = True)\n",
        "print(List)"
      ],
      "metadata": {
        "colab": {
          "base_uri": "https://localhost:8080/"
        },
        "id": "F7RiJzLcikH3",
        "outputId": "f43ae263-4314-445f-fb18-fffe40738dfd"
      },
      "execution_count": null,
      "outputs": [
        {
          "output_type": "stream",
          "name": "stdout",
          "text": [
            "['pineapple', 'orange', 'mango', 'kiwi', 'banana']\n",
            "[1000, 432, 343, 34]\n"
          ]
        }
      ]
    },
    {
      "cell_type": "code",
      "source": [
        "#Customize Sort Function\n",
        "\n",
        "#You can also customize your own function by using the keyword argument key = function.\n",
        "\n",
        "#Example\n",
        "#Sort the list based on how close the number is to 50\n",
        "\n",
        "\n",
        "def myfunc(n):\n",
        "  return abs(n - 50)\n",
        "\n",
        "thislist = [100, 50, 65, 82, 23]\n",
        "thislist.sort(key = myfunc)\n",
        "print(thislist)"
      ],
      "metadata": {
        "colab": {
          "base_uri": "https://localhost:8080/"
        },
        "id": "XWtIYtXQio9R",
        "outputId": "e1299dac-1f05-4916-be76-2413c4eeca04"
      },
      "execution_count": null,
      "outputs": [
        {
          "output_type": "stream",
          "name": "stdout",
          "text": [
            "[50, 65, 23, 82, 100]\n"
          ]
        }
      ]
    },
    {
      "cell_type": "code",
      "source": [
        "#Copy a list\n",
        "#Example\n",
        "#Make a copy of a list with the copy() method:\n",
        "List = [\"apple\",\"banana\",\"kiwi\"]\n",
        "List.copy()\n",
        "print(List)\n",
        "\n",
        "List = [\"apple\",\"banana\",\"kiwi\"]\n",
        "List.copy()\n",
        "print(List)\n",
        "\n",
        "#Use the slice Operator\n",
        "#You can also make a copy of a list by using the : (slice) operator.\n",
        "thislist = [\"apple\", \"banana\", \"cherry\"]\n",
        "thislist[:]\n",
        "print(thislist)"
      ],
      "metadata": {
        "colab": {
          "base_uri": "https://localhost:8080/"
        },
        "id": "tBQx6eNjisRL",
        "outputId": "fafb15ff-15c2-44c9-9bfc-aa1f9056efcf"
      },
      "execution_count": null,
      "outputs": [
        {
          "output_type": "stream",
          "name": "stdout",
          "text": [
            "['apple', 'banana', 'kiwi']\n",
            "['apple', 'banana', 'kiwi']\n",
            "['apple', 'banana', 'cherry']\n"
          ]
        }
      ]
    },
    {
      "cell_type": "code",
      "source": [
        "#Join Two Lists\n",
        "#Example\n",
        "#Join two list:\n",
        "\n",
        "List1 = [\"sumit\",\"Kiwi\",\"Orange\"]\n",
        "List2 = [2,3,4,5]\n",
        "List3 = List1 + List2\n",
        "print(List3)\n",
        "\n",
        "List1 = [23 + 33]\n",
        "List2 = [\"Sumit\",\"Jojo\"]\n",
        "List3 = List1 + List2\n",
        "print(l)"
      ],
      "metadata": {
        "colab": {
          "base_uri": "https://localhost:8080/"
        },
        "id": "DsdE9scMi3eP",
        "outputId": "bf424ec7-400f-475c-f253-afc29d51ff75"
      },
      "execution_count": null,
      "outputs": [
        {
          "output_type": "stream",
          "name": "stdout",
          "text": [
            "['sumit', 'Kiwi', 'Orange', 2, 3, 4, 5]\n"
          ]
        }
      ]
    },
    {
      "cell_type": "code",
      "source": [
        "#Example\n",
        "#Append list2 into list1:\n",
        "\n",
        "list1 = [\"a\", \"b\", \"c\"]\n",
        "list2 = [1, 2, 3]\n",
        "\n",
        "for x in list2:\n",
        "  list1.append(x)\n",
        "\n",
        "print(list1)"
      ],
      "metadata": {
        "id": "SHZvrHf-i6Kd",
        "outputId": "228edcb7-01a5-4b3c-9b8b-5230887422c3",
        "colab": {
          "base_uri": "https://localhost:8080/"
        }
      },
      "execution_count": null,
      "outputs": [
        {
          "output_type": "stream",
          "name": "stdout",
          "text": [
            "['a', 'b', 'c', 1, 2, 3]\n"
          ]
        }
      ]
    },
    {
      "cell_type": "code",
      "source": [
        "#Example\n",
        "#Use the extend() method to add list2 at the end of list1:\n",
        "\n",
        "list1 = [\"a\", \"b\" , \"c\"]\n",
        "list2 = [1, 2, 3]\n",
        "\n",
        "list1.extend(list2)\n",
        "print(list1)"
      ],
      "metadata": {
        "id": "GjCMAzIOi7Tt",
        "outputId": "7343ab3b-7dbc-4b88-b3bb-487131b692cf",
        "colab": {
          "base_uri": "https://localhost:8080/"
        }
      },
      "execution_count": null,
      "outputs": [
        {
          "output_type": "stream",
          "name": "stdout",
          "text": [
            "['a', 'b', 'c', 1, 2, 3]\n"
          ]
        }
      ]
    }
  ]
}